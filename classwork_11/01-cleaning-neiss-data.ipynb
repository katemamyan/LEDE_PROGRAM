{
 "cells": [
  {
   "cell_type": "markdown",
   "id": "9d1c83b8-a347-44f3-a349-48980c97d937",
   "metadata": {},
   "source": [
    "# Cleaning Data With Pandas 📈 📈 📈"
   ]
  },
  {
   "cell_type": "code",
   "execution_count": null,
   "id": "efe29237-001f-4e7e-bcd9-5c0b156402b6",
   "metadata": {},
   "outputs": [],
   "source": [
    "import pandas as pd"
   ]
  },
  {
   "cell_type": "markdown",
   "id": "4a11db2c-af96-4d6b-9cec-c87804f5f797",
   "metadata": {},
   "source": [
    "## NEISS data \n"
   ]
  },
  {
   "cell_type": "code",
   "execution_count": null,
   "id": "69882d6b-b564-4f95-a160-677d92157849",
   "metadata": {},
   "outputs": [],
   "source": [
    "import pandas as pd"
   ]
  },
  {
   "cell_type": "code",
   "execution_count": null,
   "id": "37622468-b73f-4391-890a-983715caee68",
   "metadata": {},
   "outputs": [],
   "source": [
    "# None gives us HOWEVER MANY CHARACTERS THERE ARE\n",
    "pd.options.display.max_colwidth = None\n",
    "\n",
    "# csv = comma-separated values\n",
    "# tsv = tab-separated values\n",
    "# \\t means tab\n",
    "neiss = pd.read_csv(\"raw-data/neiss2017_edited.tsv\",\n",
    "                 sep=\"\\t\",\n",
    "                 encoding=\"latin-1\",\n",
    "                 na_values=[0],\n",
    "                 parse_dates=['Treatment_Date'])\n",
    "neiss.head(2)"
   ]
  },
  {
   "cell_type": "markdown",
   "id": "3619cf08-cda3-4f36-a339-c806555aeb26",
   "metadata": {},
   "source": [
    "If you have a string column and you want to turn it into a datetime you can do this!"
   ]
  },
  {
   "cell_type": "code",
   "execution_count": null,
   "id": "fb53884e-4924-475f-b1c5-e587f4cb07c6",
   "metadata": {},
   "outputs": [],
   "source": [
    "neiss['Treatment_Date'] = pd.to_datetime(neiss['Treatment_Date'])"
   ]
  },
  {
   "cell_type": "code",
   "execution_count": null,
   "id": "a32dbbc7-5176-48f8-90d2-1b6809ba7ec4",
   "metadata": {},
   "outputs": [],
   "source": []
  },
  {
   "cell_type": "code",
   "execution_count": null,
   "id": "a1383a11-c584-45ec-94c0-820551bcfda3",
   "metadata": {},
   "outputs": [],
   "source": [
    "neiss['Treatment_Date'].value_counts().plot()"
   ]
  },
  {
   "cell_type": "code",
   "execution_count": null,
   "id": "497d4e2a-b1f6-4e7b-9ac8-14eb8533e466",
   "metadata": {},
   "outputs": [],
   "source": [
    "neiss['Treatment_Date'].plot()"
   ]
  },
  {
   "cell_type": "code",
   "execution_count": null,
   "id": "064d5356-d77f-48a4-9c92-6edf186b9552",
   "metadata": {},
   "outputs": [],
   "source": [
    "neiss['Treatment_Date'].dt.day_name().value_counts()"
   ]
  },
  {
   "cell_type": "code",
   "execution_count": null,
   "id": "b5197c79-15e2-4e6c-8a35-a16d192bc0e7",
   "metadata": {},
   "outputs": [],
   "source": [
    "neiss['Treatment_Date'].dt.day_name().value_counts().reset_index()"
   ]
  },
  {
   "cell_type": "code",
   "execution_count": null,
   "id": "4681064d-bfd4-4d3d-bc6f-3bf74ae47aab",
   "metadata": {},
   "outputs": [],
   "source": [
    "neiss['Treatment_Date'].value_counts().plot()"
   ]
  },
  {
   "cell_type": "code",
   "execution_count": null,
   "id": "0c2e1432-5dc5-47b2-8d84-0b1b35501a2f",
   "metadata": {},
   "outputs": [],
   "source": [
    "neiss.resample('M', on='Treatment_Date').size().plot()"
   ]
  },
  {
   "cell_type": "code",
   "execution_count": null,
   "id": "9ced11e6-bfde-4661-ba3a-fe44cceba056",
   "metadata": {},
   "outputs": [],
   "source": [
    "neiss.info()"
   ]
  },
  {
   "cell_type": "code",
   "execution_count": null,
   "id": "4572af61-0574-47cd-b3d9-d9996502321d",
   "metadata": {},
   "outputs": [],
   "source": [
    "neiss['Treatment_Date'].dt.day_name()"
   ]
  },
  {
   "cell_type": "markdown",
   "id": "d0b50e0e-35e4-4c02-9420-95185327357d",
   "metadata": {},
   "source": [
    "## How old is everyone that ends up in the emergency room?"
   ]
  },
  {
   "cell_type": "code",
   "execution_count": null,
   "id": "b6440a8a-201b-46dd-a6b7-905dd0e1288e",
   "metadata": {},
   "outputs": [],
   "source": [
    "# neiss['Age'].mean() B\n",
    "# neiss['Age'].median(), or..... neiss['Age'].hist()\n",
    "neiss['Age'].mean()"
   ]
  },
  {
   "cell_type": "code",
   "execution_count": null,
   "id": "cfb60c66-e5e9-4c65-8b60-6e44181bf72b",
   "metadata": {},
   "outputs": [],
   "source": [
    "neiss.dtypes"
   ]
  },
  {
   "cell_type": "code",
   "execution_count": null,
   "id": "9cac0510-f9c3-4cca-b768-70c5aaad5474",
   "metadata": {},
   "outputs": [],
   "source": [
    "neiss.head(2)"
   ]
  },
  {
   "cell_type": "markdown",
   "id": "de61ed59-e651-4639-9971-0ae6c9a19784",
   "metadata": {},
   "source": [
    "### Clean the ages up "
   ]
  },
  {
   "cell_type": "code",
   "execution_count": null,
   "id": "f30f2085-be32-4ed9-8472-2e69a6a073ba",
   "metadata": {},
   "outputs": [],
   "source": [
    "age = \"21YO\""
   ]
  },
  {
   "cell_type": "markdown",
   "id": "1ddbd991-1b66-4c7e-b0b3-c31f94f40b60",
   "metadata": {},
   "source": [
    "Replace YO with nothing and now we just have the age"
   ]
  },
  {
   "cell_type": "code",
   "execution_count": null,
   "id": "e85b9f4f-693d-4c09-b742-78715aee0503",
   "metadata": {},
   "outputs": [],
   "source": [
    "age.replace(\"YO\", \"\")"
   ]
  },
  {
   "cell_type": "code",
   "execution_count": null,
   "id": "2d1d80ed-c570-4604-8952-db8d8b4074f3",
   "metadata": {},
   "outputs": [],
   "source": [
    "int(age.replace(\"YO\", \"\"))"
   ]
  },
  {
   "cell_type": "code",
   "execution_count": null,
   "id": "217071e2-62a6-4b0c-9ef4-fce326d75f99",
   "metadata": {},
   "outputs": [],
   "source": [
    "# list slicing, every character except the last two\n",
    "age[:-2]"
   ]
  },
  {
   "cell_type": "code",
   "execution_count": null,
   "id": "fb82771e-ba65-40eb-aac8-346d2a42eae3",
   "metadata": {},
   "outputs": [],
   "source": [
    "# .replace is used for replacing ENTIRE CELLS OF DATA\n",
    "# so this won't work\n",
    "neiss['Age'].replace(\"YO\", \"\")\n",
    "#df['Age'].replace(\"21YO\", \"HELLO\")"
   ]
  },
  {
   "cell_type": "code",
   "execution_count": null,
   "id": "1a0ff3bf-14b9-40c4-bc56-0169571b494e",
   "metadata": {},
   "outputs": [],
   "source": [
    "# takes everything except the last two\n",
    "neiss['Age'].str[:-2].astype(float)\n",
    "# Take the last two characters of a column\n",
    "# df['state_abbrev'] = df['address'].str[-2:]\n",
    "# \"New York, NY\" -> \"NY\""
   ]
  },
  {
   "cell_type": "markdown",
   "id": "99c1cd13-45b8-400b-8d3a-f1d36ece4793",
   "metadata": {},
   "source": [
    "Let's clean up the age column"
   ]
  },
  {
   "cell_type": "code",
   "execution_count": null,
   "id": "cded22a1-89df-4d41-9228-41135c85c823",
   "metadata": {},
   "outputs": [],
   "source": [
    "neiss['Age'] = neiss['Age'].str.replace(\"YO\", \"\").astype(float)"
   ]
  },
  {
   "cell_type": "code",
   "execution_count": null,
   "id": "f03a3b75-2c7a-4eb5-b84d-fbd441b54c05",
   "metadata": {},
   "outputs": [],
   "source": [
    "neiss.head()"
   ]
  },
  {
   "cell_type": "code",
   "execution_count": null,
   "id": "31b436d2-79cb-4a4e-8a6e-25f825245d88",
   "metadata": {},
   "outputs": [],
   "source": [
    "neiss['Age'].median()"
   ]
  },
  {
   "cell_type": "code",
   "execution_count": null,
   "id": "49a942c6-3c06-4cd7-b7ff-38fc5eb2344a",
   "metadata": {},
   "outputs": [],
   "source": [
    "neiss['Age'].hist()"
   ]
  },
  {
   "cell_type": "markdown",
   "id": "df38f020-0bbb-40ed-8e6d-7ba0fd21676e",
   "metadata": {},
   "source": [
    "### Um, what is happening with these over 200 year old people?"
   ]
  },
  {
   "cell_type": "code",
   "execution_count": null,
   "id": "4744441a-b549-4aa5-b919-2d2d5a4e6da9",
   "metadata": {},
   "outputs": [],
   "source": [
    "neiss[neiss['Age'] > 200]"
   ]
  },
  {
   "cell_type": "code",
   "execution_count": null,
   "id": "49a89c72-c4db-4fab-8890-4342e060b0a7",
   "metadata": {},
   "outputs": [],
   "source": [
    "# This would convert months to fractional for baby rows\n",
    "# 212 -> (212 - 200) / 12 -> 12 / 12 -> 1 years\n",
    "# 218 -> (218 - 200) / 12 -> 18 / 12 -> 1.5 years\n",
    "# neiss.loc[neiss['Age'] < 200, 'Age'] = (df['Age'] - 200) / 12"
   ]
  },
  {
   "cell_type": "code",
   "execution_count": null,
   "id": "5c2abf48-4afe-4ebe-b040-f39d06aeedad",
   "metadata": {},
   "outputs": [],
   "source": [
    "neiss = neiss[neiss['Age'] < 200].copy()"
   ]
  },
  {
   "cell_type": "code",
   "execution_count": null,
   "id": "503d0914-4fb2-46e9-b502-fcef4bc97d4f",
   "metadata": {},
   "outputs": [],
   "source": [
    "neiss.head()"
   ]
  },
  {
   "cell_type": "markdown",
   "id": "504197ee-3ca5-4b6f-9529-5f57f47b7aa6",
   "metadata": {},
   "source": [
    "What about the sex of people?"
   ]
  },
  {
   "cell_type": "code",
   "execution_count": null,
   "id": "65d3bfec-f5b9-4190-a173-fa0130553550",
   "metadata": {},
   "outputs": [],
   "source": [
    "neiss['Sex'].value_counts()"
   ]
  },
  {
   "cell_type": "code",
   "execution_count": null,
   "id": "6819b51c-4684-44e6-add7-ea04615a9935",
   "metadata": {},
   "outputs": [],
   "source": [
    "import numpy as np\n",
    "\n",
    "neiss['Sex'] = neiss['Sex'].replace({\n",
    "    1: 'Male',\n",
    "    2: 'Female',\n",
    "    0: np.nan\n",
    "})\n",
    "neiss['Sex'].value_counts(dropna=False, normalize=True)"
   ]
  },
  {
   "cell_type": "markdown",
   "id": "8f31af92-060a-4708-a824-f78a49e02361",
   "metadata": {},
   "source": [
    "And race?"
   ]
  },
  {
   "cell_type": "code",
   "execution_count": null,
   "id": "fc3464ae-6574-461e-b942-7223a43e0f98",
   "metadata": {},
   "outputs": [],
   "source": [
    "neiss['Race'].value_counts()"
   ]
  },
  {
   "cell_type": "markdown",
   "id": "67d6d4a4-3b15-477e-a4d5-db52fc6dfacd",
   "metadata": {},
   "source": [
    "### Let's look at the narratives"
   ]
  },
  {
   "cell_type": "code",
   "execution_count": null,
   "id": "b1d1e823-8e28-4026-8a6a-89d592cdc76b",
   "metadata": {},
   "outputs": [],
   "source": [
    "neiss['Narrative_1'].str.contains(\"PUNCH\")"
   ]
  },
  {
   "cell_type": "code",
   "execution_count": null,
   "id": "ed2e740a-e707-4830-aae8-4eaf319ed87f",
   "metadata": {},
   "outputs": [],
   "source": [
    "neiss"
   ]
  },
  {
   "cell_type": "code",
   "execution_count": null,
   "id": "42080264-ff70-48c8-b314-575103a23558",
   "metadata": {},
   "outputs": [],
   "source": [
    "# ValueError: Cannot mask with non-boolean array containing NA / NaN values\n",
    "neiss[neiss['Narrative_1'].str.contains(\"PUNCH\", na=False)]"
   ]
  },
  {
   "cell_type": "code",
   "execution_count": null,
   "id": "9880c446-4166-45ee-b9f1-8d327b82df8f",
   "metadata": {},
   "outputs": [],
   "source": [
    "# JONATHAN SOMA PUNCHED A WALL WITH HIS HAND\n",
    "# JONATHAN SOMA WAS PUNCHING TEN WALLS WITH\n",
    "# PUNCHED A WALL\n",
    "# PUNCH(SOME OTHER STUFF????)WALL\n",
    "# PUNCH.*WALL\n",
    "neiss[neiss['Narrative_1'].str.contains(\"PUNCH.*WALL\", na=False)]"
   ]
  },
  {
   "cell_type": "code",
   "execution_count": null,
   "id": "5a108312-8783-40f9-ae06-775bdd8e4eab",
   "metadata": {},
   "outputs": [],
   "source": [
    "# PUNCHED A WALL\n",
    "# PUNCHING A WALL\n",
    "# PUNCHED THE WALL\n",
    "# PUNCHED WALL\n",
    "# . means \"all kinds of stuff\"\n",
    "# \\w means \"word stuff\"\n",
    "# \\d means \"digit stuff\"\n",
    "neiss['Narrative_1'].str.extract(\"PUNCHED A (\\w*)\", expand=False).value_counts()"
   ]
  },
  {
   "cell_type": "code",
   "execution_count": null,
   "id": "2291be32-e08f-401c-9657-c3406cf49e3f",
   "metadata": {},
   "outputs": [],
   "source": [
    "neiss['Narrative_1'].str.extract(\"PUNCHED A (.*)\", expand=False)"
   ]
  },
  {
   "cell_type": "code",
   "execution_count": null,
   "id": "6b7521fa-d469-446f-8528-d48a7519192b",
   "metadata": {},
   "outputs": [],
   "source": [
    "neiss.head(2)"
   ]
  },
  {
   "cell_type": "code",
   "execution_count": null,
   "id": "099ce20f-c6aa-4328-820a-b85897e0fcb8",
   "metadata": {},
   "outputs": [],
   "source": [
    "neiss.info()"
   ]
  },
  {
   "cell_type": "markdown",
   "id": "4b8e7424-687a-46fe-9e65-be47173dcf4b",
   "metadata": {},
   "source": [
    "### Save the data"
   ]
  },
  {
   "cell_type": "code",
   "execution_count": null,
   "id": "e0a7cb11-b832-41c9-93de-89db527a5588",
   "metadata": {},
   "outputs": [],
   "source": [
    "# export the csv, first making directories that may not exist yet locally\n",
    "os.makedirs('processed', exist_ok=True)"
   ]
  },
  {
   "cell_type": "code",
   "execution_count": null,
   "id": "b0b868a1-21b9-4787-b206-475d52010910",
   "metadata": {},
   "outputs": [],
   "source": [
    "neiss.to_csv(\"processed/neiss_cleaned.csv\", index=False)"
   ]
  }
 ],
 "metadata": {
  "kernelspec": {
   "display_name": "Python 3 (ipykernel)",
   "language": "python",
   "name": "python3"
  },
  "language_info": {
   "codemirror_mode": {
    "name": "ipython",
    "version": 3
   },
   "file_extension": ".py",
   "mimetype": "text/x-python",
   "name": "python",
   "nbconvert_exporter": "python",
   "pygments_lexer": "ipython3",
   "version": "3.8.17"
  }
 },
 "nbformat": 4,
 "nbformat_minor": 5
}
