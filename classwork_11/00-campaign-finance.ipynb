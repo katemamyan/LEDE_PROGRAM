{
 "cells": [
  {
   "cell_type": "markdown",
   "id": "be9dd703",
   "metadata": {},
   "source": [
    "# Formatting and cleaning data "
   ]
  },
  {
   "cell_type": "code",
   "execution_count": null,
   "id": "8222fdd7-0e08-4f32-ab6c-28a0b63c873a",
   "metadata": {},
   "outputs": [],
   "source": [
    "import pandas as pd\n",
    "import numpy as np\n",
    "import warnings, os"
   ]
  },
  {
   "cell_type": "markdown",
   "id": "24f2160d-66d4-4f74-80d2-da1b3175d8ed",
   "metadata": {},
   "source": [
    "## Load and clean data"
   ]
  },
  {
   "cell_type": "code",
   "execution_count": null,
   "id": "8952cb2a-620a-457a-b715-23650dae9abf",
   "metadata": {
    "tags": []
   },
   "outputs": [],
   "source": [
    "precincts = pd.read_csv('raw-data/statement_of_votes_alameda_senator_050324.csv', na_values=['','****'], skiprows=2)"
   ]
  },
  {
   "cell_type": "markdown",
   "id": "e330a46b-7b4e-4917-8a83-a758e9518108",
   "metadata": {},
   "source": [
    "How do we look at the first few rows?"
   ]
  },
  {
   "cell_type": "code",
   "execution_count": null,
   "id": "e328de5e-2b97-4aef-bfe1-4177108a5c7c",
   "metadata": {},
   "outputs": [],
   "source": []
  },
  {
   "cell_type": "markdown",
   "id": "d8e151e0-ef16-4959-ab37-cdaa00ae1329",
   "metadata": {},
   "source": [
    "Drop the na columns"
   ]
  },
  {
   "cell_type": "code",
   "execution_count": null,
   "id": "4354fa89-8fba-4ea3-bffd-73e23e9a310f",
   "metadata": {},
   "outputs": [],
   "source": []
  },
  {
   "cell_type": "markdown",
   "id": "3ded1257-ef17-4ee4-96b8-62e36af1ecdc",
   "metadata": {},
   "source": [
    "What is in this data?"
   ]
  },
  {
   "cell_type": "code",
   "execution_count": null,
   "id": "68e321bd-3ca0-42c1-9552-9c87ddfbc764",
   "metadata": {},
   "outputs": [],
   "source": []
  },
  {
   "cell_type": "markdown",
   "id": "e7ae44d7-e043-4b24-aa33-fe51e9c52323",
   "metadata": {},
   "source": [
    "Rename precinct column"
   ]
  },
  {
   "cell_type": "code",
   "execution_count": null,
   "id": "7d65b0dd-fdc6-46fb-a5a6-9c27990f9485",
   "metadata": {},
   "outputs": [],
   "source": []
  },
  {
   "cell_type": "markdown",
   "id": "3d7cb9ad-68bf-4ef6-a59f-3f76765049b2",
   "metadata": {},
   "source": [
    "Drop the columns we don't need "
   ]
  },
  {
   "cell_type": "code",
   "execution_count": null,
   "id": "f878e156-3459-403f-87de-3629c90e4aa5",
   "metadata": {},
   "outputs": [],
   "source": []
  },
  {
   "cell_type": "code",
   "execution_count": null,
   "id": "775b9df5-b372-45bb-8c37-afbf631ecb24",
   "metadata": {},
   "outputs": [],
   "source": [
    "precincts_cleaned[\"precinct\"] = precincts_cleaned[\"type\"]"
   ]
  },
  {
   "cell_type": "markdown",
   "id": "0fcbf2e2-bbd8-4fa8-99c1-60f0b061a32a",
   "metadata": {},
   "source": [
    "Check the columns"
   ]
  },
  {
   "cell_type": "code",
   "execution_count": null,
   "id": "2ede2a78-c7a5-4d4d-95a1-3baaffda2795",
   "metadata": {},
   "outputs": [],
   "source": []
  },
  {
   "cell_type": "markdown",
   "id": "88a3b79d-528b-4392-ab43-aeb8c62b7317",
   "metadata": {},
   "source": [
    "Drop the rows after 'Electionwide - Total'"
   ]
  },
  {
   "cell_type": "code",
   "execution_count": null,
   "id": "53fb5ef6-96f5-4dd9-ae2b-6abdb0b28c0d",
   "metadata": {},
   "outputs": [],
   "source": [
    "end_index = precincts_cleaned.query(\"type == 'Electionwide - Total'\").index[0]"
   ]
  },
  {
   "cell_type": "markdown",
   "id": "d0181c20-9de7-442e-a67f-13e4cf0098e6",
   "metadata": {},
   "source": [
    "https://pandas.pydata.org/docs/reference/api/pandas.DataFrame.iloc.html#pandas.DataFrame.iloc"
   ]
  },
  {
   "cell_type": "code",
   "execution_count": null,
   "id": "077f134d-42a6-4e4a-8ffe-3dff2d1fe13d",
   "metadata": {},
   "outputs": [],
   "source": [
    "precincts_cleaned_cut = precincts_cleaned.iloc[:end_index]"
   ]
  },
  {
   "cell_type": "markdown",
   "id": "cb9a8885-7b6c-4a02-a760-9fd677be58ca",
   "metadata": {},
   "source": [
    "more cleaning"
   ]
  },
  {
   "cell_type": "code",
   "execution_count": null,
   "id": "18e1da77-ac0e-49bb-8a1e-c039b8987261",
   "metadata": {},
   "outputs": [],
   "source": []
  },
  {
   "cell_type": "code",
   "execution_count": null,
   "id": "c2f07a2a-fd8a-4da2-9732-5b2f52e610cc",
   "metadata": {},
   "outputs": [],
   "source": [
    "precincts_cleaned[\"precinct\"].replace(['Countywide', 'Electionwide', 'Election Day',\n",
    "       'Vote by Mail', 'Total','Electionwide - Total', 'Cumulative', 'Cumulative - Total',\n",
    "       'Countywide - Total'], np.nan, inplace=True)"
   ]
  },
  {
   "cell_type": "markdown",
   "id": "8535e9b3-1870-4d76-b72f-fe2f0d502c54",
   "metadata": {},
   "source": [
    "Are the precincts unique? How many are unique?"
   ]
  },
  {
   "cell_type": "code",
   "execution_count": null,
   "id": "ccb9cafe-e955-4fc1-ba94-40b621d0e2e1",
   "metadata": {},
   "outputs": [],
   "source": []
  },
  {
   "cell_type": "code",
   "execution_count": null,
   "id": "291514e7-2340-44f5-8dc9-94c3d7bca77a",
   "metadata": {},
   "outputs": [],
   "source": []
  },
  {
   "cell_type": "markdown",
   "id": "f78e3740-60d4-4fdc-bb81-1efa77a2e412",
   "metadata": {},
   "source": [
    "https://pandas.pydata.org/docs/reference/api/pandas.core.groupby.DataFrameGroupBy.ffill.html#pandas.core.groupby.DataFrameGroupBy.ffill"
   ]
  },
  {
   "cell_type": "code",
   "execution_count": null,
   "id": "d20f6645-f372-4ebe-81ce-4b4cddb22e73",
   "metadata": {},
   "outputs": [],
   "source": [
    "precincts_cleaned[\"precinct\"] = precincts_cleaned[\"precinct\"].ffill()"
   ]
  },
  {
   "cell_type": "code",
   "execution_count": null,
   "id": "778a1f53-d756-42c8-b82f-b56cf6b693c7",
   "metadata": {},
   "outputs": [],
   "source": [
    "precincts_cleaned.head(10)"
   ]
  },
  {
   "cell_type": "code",
   "execution_count": null,
   "id": "7605a714-3874-4a62-89f1-10606e645bb6",
   "metadata": {},
   "outputs": [],
   "source": [
    "precincts_cleaned[\"precinct\"].nunique()"
   ]
  },
  {
   "cell_type": "markdown",
   "id": "a3e8b35c-b59d-4aa4-a5c1-1d56aa1894ad",
   "metadata": {},
   "source": [
    "Now, filter to just the total vote rows"
   ]
  },
  {
   "cell_type": "code",
   "execution_count": null,
   "id": "4852d880-9710-4f5a-84ee-ec92038223fd",
   "metadata": {},
   "outputs": [],
   "source": []
  },
  {
   "cell_type": "code",
   "execution_count": null,
   "id": "101e194e-7268-484f-b9ad-2ce52f04c327",
   "metadata": {},
   "outputs": [],
   "source": [
    "total.head()"
   ]
  },
  {
   "cell_type": "markdown",
   "id": "421a8e31-e495-48bb-a69e-7fccabbdfc04",
   "metadata": {},
   "source": [
    "Check the counts of the precincts again"
   ]
  },
  {
   "cell_type": "code",
   "execution_count": null,
   "id": "349ebf74-ce50-47a8-bdc4-6b792f7e2041",
   "metadata": {},
   "outputs": [],
   "source": []
  },
  {
   "cell_type": "markdown",
   "id": "299619dd-3435-4375-8a11-35ee6a22c8fb",
   "metadata": {},
   "source": [
    "Move the total votes to the first position"
   ]
  },
  {
   "cell_type": "code",
   "execution_count": null,
   "id": "3625eafa-bda0-4678-8aab-d606a725f51e",
   "metadata": {},
   "outputs": [],
   "source": [
    "total_column = total.pop('Total Votes') \n",
    "total.insert(0, 'total_votes', total_column) "
   ]
  },
  {
   "cell_type": "markdown",
   "id": "73fd41b2-5f54-4dd6-9303-3ba72629d9b2",
   "metadata": {},
   "source": [
    "Shift column 'Total Votes' to first position "
   ]
  },
  {
   "cell_type": "code",
   "execution_count": null,
   "id": "dcef856e-fde7-4b68-931a-73b97f90a4b4",
   "metadata": {},
   "outputs": [],
   "source": [
    "precinct_column = total.pop('precinct') \n",
    "total.insert(0, 'precinct', precinct_column) "
   ]
  },
  {
   "cell_type": "markdown",
   "id": "dbda76dc-1ef5-4720-974c-17625f36c70d",
   "metadata": {},
   "source": [
    "Split the column names"
   ]
  },
  {
   "cell_type": "code",
   "execution_count": null,
   "id": "08c61d15-5887-47ef-b228-733eaa292cb6",
   "metadata": {},
   "outputs": [],
   "source": [
    "total.columns = total.columns.str.split('\\n').str[0]"
   ]
  },
  {
   "cell_type": "code",
   "execution_count": null,
   "id": "3df7a1a8-736a-47c4-a3b6-ed12417c7a03",
   "metadata": {},
   "outputs": [],
   "source": [
    "total.head()"
   ]
  },
  {
   "cell_type": "markdown",
   "id": "13b6b446-b995-4991-a140-d4c0dad9dcfb",
   "metadata": {},
   "source": [
    "## Reshape dataframe\n",
    "\n",
    "Note: Null values are suppressed data"
   ]
  },
  {
   "cell_type": "markdown",
   "id": "f21c9a7a-f823-4b7a-a820-c1d2935665da",
   "metadata": {},
   "source": [
    "Make dataframe long for all columns after ballots cast - put candidates in a candidate column"
   ]
  },
  {
   "cell_type": "code",
   "execution_count": null,
   "id": "83f36642-2ec7-442d-9723-1d12e8164c86",
   "metadata": {},
   "outputs": [],
   "source": [
    "long = pd.melt(total, \n",
    "               id_vars=['precinct','total_votes'], \n",
    "               value_vars=total.columns[3:])"
   ]
  },
  {
   "cell_type": "markdown",
   "id": "47c9a9b3-6bee-4bfb-b10e-076301aeac9e",
   "metadata": {},
   "source": [
    "Grab just a sample of the data "
   ]
  },
  {
   "cell_type": "code",
   "execution_count": null,
   "id": "6b64d3c9-51af-4936-bf31-83cbc619b4c0",
   "metadata": {},
   "outputs": [],
   "source": [
    "long.sample()"
   ]
  },
  {
   "cell_type": "markdown",
   "id": "8dcb7028-bf19-49eb-b613-0915295c3ee7",
   "metadata": {},
   "source": [
    "What is in this data?"
   ]
  },
  {
   "cell_type": "code",
   "execution_count": null,
   "id": "565e5d4b-ddea-478a-9192-fe6f28c6d347",
   "metadata": {},
   "outputs": [],
   "source": []
  },
  {
   "cell_type": "code",
   "execution_count": null,
   "id": "20f7abf3-a874-4666-b9b6-adea840fd843",
   "metadata": {},
   "outputs": [],
   "source": [
    "long.columns = ['precinct','total_votes','candidate_name','candidate_votes']"
   ]
  },
  {
   "cell_type": "markdown",
   "id": "d1d51a28-e3d7-4c03-a7ce-90ce1604d2d3",
   "metadata": {},
   "source": [
    "Make names title case"
   ]
  },
  {
   "cell_type": "code",
   "execution_count": null,
   "id": "250f8aa4-0c3f-459e-b138-b58760f064a3",
   "metadata": {},
   "outputs": [],
   "source": [
    "long['candidate_name'] = long['candidate_name'].str.title()"
   ]
  },
  {
   "cell_type": "code",
   "execution_count": null,
   "id": "3714f853-4df2-4f97-96e7-15512a22bb23",
   "metadata": {},
   "outputs": [],
   "source": [
    "long.sort_values(\"precinct\").head(2)"
   ]
  },
  {
   "cell_type": "markdown",
   "id": "c32dced2-9a01-46d2-94e7-d394d22838ad",
   "metadata": {},
   "source": [
    "Clean up the data"
   ]
  },
  {
   "cell_type": "code",
   "execution_count": null,
   "id": "ed866120-160d-4f0c-b2e3-e594e39ad4e3",
   "metadata": {},
   "outputs": [],
   "source": [
    "long[\"candidate_votes\"] = long[\"candidate_votes\"].astype(str)\n",
    "long[\"total_votes\"] = long[\"total_votes\"].astype(str)\n",
    "long[\"candidate_votes\"] = long[\"candidate_votes\"].str.replace(\"0.0\",\"0\")\n",
    "long[\"candidate_votes\"] = long[\"candidate_votes\"].str.replace(\",\",\"\")\n",
    "long[\"total_votes\"] = long[\"total_votes\"].str.replace(\"0.0\",\"0\")\n",
    "long[\"total_votes\"] = long[\"total_votes\"].str.replace(\",\",\"\")"
   ]
  },
  {
   "cell_type": "code",
   "execution_count": null,
   "id": "5478a47a-8b60-47f3-8458-72e9dd87c5dc",
   "metadata": {},
   "outputs": [],
   "source": [
    "long[\"candidate_votes\"] = pd.to_numeric(long[\"candidate_votes\"], errors='coerce')\n",
    "long[\"total_votes\"] = pd.to_numeric(long[\"total_votes\"], errors='coerce')"
   ]
  },
  {
   "cell_type": "markdown",
   "id": "a7b65370-098d-47a9-920e-98f767f8c7d3",
   "metadata": {},
   "source": [
    "Which ones are na?"
   ]
  },
  {
   "cell_type": "code",
   "execution_count": null,
   "id": "390bf52e-1afa-4706-9362-5ee75a8c5627",
   "metadata": {},
   "outputs": [],
   "source": []
  },
  {
   "cell_type": "markdown",
   "id": "a3bf2954-c0d5-4528-a56d-008af7ef39c9",
   "metadata": {},
   "source": [
    "## Get candidate order by precinct and create variables"
   ]
  },
  {
   "cell_type": "code",
   "execution_count": null,
   "id": "e3f79c3a-ddc7-4e73-a90e-6851bca25ba6",
   "metadata": {},
   "outputs": [],
   "source": [
    "from scipy.stats import rankdata "
   ]
  },
  {
   "cell_type": "markdown",
   "id": "b346dfb2-6d2b-4549-bfd8-3de0bd282875",
   "metadata": {},
   "source": [
    "Make a copy"
   ]
  },
  {
   "cell_type": "code",
   "execution_count": null,
   "id": "9e8a3de3-2f0e-4add-ad49-a21bc92425d2",
   "metadata": {},
   "outputs": [],
   "source": [
    "rank = long.copy()"
   ]
  },
  {
   "cell_type": "markdown",
   "id": "3d608913-49ac-4887-b71e-ba98dc877a2a",
   "metadata": {},
   "source": [
    "Group by and rank by candidate votes"
   ]
  },
  {
   "cell_type": "code",
   "execution_count": null,
   "id": "a22a2efa-5416-4bef-885b-a09f25f051ed",
   "metadata": {},
   "outputs": [],
   "source": []
  },
  {
   "cell_type": "code",
   "execution_count": null,
   "id": "38f2da42-0c54-4682-9b37-73a83b034fa0",
   "metadata": {},
   "outputs": [],
   "source": [
    "rank"
   ]
  },
  {
   "cell_type": "markdown",
   "id": "74d54298-20df-48a5-8200-a9ed8b58e000",
   "metadata": {},
   "source": [
    "Fill nas in "
   ]
  },
  {
   "cell_type": "code",
   "execution_count": null,
   "id": "c57740d1-a4d8-47c8-922c-a0dab50c962c",
   "metadata": {},
   "outputs": [],
   "source": [
    "rank[\"rank\"] = rank[\"rank\"].fillna(99)"
   ]
  },
  {
   "cell_type": "markdown",
   "id": "075e4f66-ae39-4308-9ca8-da774a1c4f7e",
   "metadata": {},
   "source": [
    "Find the unique candidate names"
   ]
  },
  {
   "cell_type": "code",
   "execution_count": null,
   "id": "2a01b6f3-3c52-42b7-afc5-4435d6db2790",
   "metadata": {},
   "outputs": [],
   "source": [
    "len(rank[\"candidate_name\"].unique())"
   ]
  },
  {
   "cell_type": "markdown",
   "id": "8bd3933d-5b81-4618-b24a-d8d774a240ee",
   "metadata": {},
   "source": [
    "Get the unique ranks"
   ]
  },
  {
   "cell_type": "code",
   "execution_count": null,
   "id": "2d4a2851-b4e2-465b-9ae8-c0d919facd38",
   "metadata": {},
   "outputs": [],
   "source": [
    "rank[\"rank\"].unique()"
   ]
  },
  {
   "cell_type": "markdown",
   "id": "fe50c092-d809-4dcc-ae6f-708df660fe5f",
   "metadata": {},
   "source": [
    "Set rank as an int"
   ]
  },
  {
   "cell_type": "code",
   "execution_count": null,
   "id": "14b41797-9b30-40a5-932b-2371a00420ec",
   "metadata": {},
   "outputs": [],
   "source": [
    "rank[\"rank\"] = rank[\"rank\"].astype(int)"
   ]
  },
  {
   "cell_type": "markdown",
   "id": "531f656a-b362-4e4d-be1a-06ceb90c8a8d",
   "metadata": {},
   "source": [
    "For candidates that are in 5 place or lower, set the rank to \"other\" and group their votes\n",
    "If there is a tie for 5th place, one of the tied candidates drops to the other group - for what we are doing this is ok, but something to note!"
   ]
  },
  {
   "cell_type": "code",
   "execution_count": null,
   "id": "a5121adb-19ae-474d-9cb3-3c0889ec6a63",
   "metadata": {},
   "outputs": [],
   "source": [
    "rank.loc[rank[\"rank\"] >= 5, \"rank\"] = 5"
   ]
  },
  {
   "cell_type": "markdown",
   "id": "d114f1da-3b3c-4deb-a467-09d2580faa25",
   "metadata": {},
   "source": [
    "rank[\"rank\"] = rank[\"rank\"].astype(str)"
   ]
  },
  {
   "cell_type": "code",
   "execution_count": null,
   "id": "1d3020ea-87b3-4f06-be1c-cc8aaae4d66e",
   "metadata": {},
   "outputs": [],
   "source": [
    "rank.loc[rank[\"rank\"] == \"5\", \"rank\"] = \"5+\"\n",
    "rank.loc[rank[\"rank\"] == \"5+\", \"candidate_name\"] = \"Other\""
   ]
  },
  {
   "cell_type": "markdown",
   "id": "9603d508-317f-4e88-864b-a2abc72eae33",
   "metadata": {},
   "source": [
    "Group by and sum the candidate votes"
   ]
  },
  {
   "cell_type": "code",
   "execution_count": null,
   "id": "3e40e5a1-c319-49a7-b4a7-54005863d846",
   "metadata": {},
   "outputs": [],
   "source": [
    "rank_grouped = rank.groupby([\"precinct\",\"total_votes\",\"candidate_name\",\"rank\"])[\"candidate_votes\"].sum().reset_index()"
   ]
  },
  {
   "cell_type": "markdown",
   "id": "edcb84ff-30b8-4875-9859-d863f208f558",
   "metadata": {},
   "source": [
    "Create a candidate percentage of votes"
   ]
  },
  {
   "cell_type": "code",
   "execution_count": null,
   "id": "b63f52b0-b97a-4800-b1a3-378b4ee67e98",
   "metadata": {},
   "outputs": [],
   "source": [
    "rank_grouped[\"candidate_pct\"] = rank_grouped [\"candidate_votes\"] /rank_grouped [\"total_votes\"]"
   ]
  },
  {
   "cell_type": "markdown",
   "id": "1da69270-adb2-4df0-9e89-0d2c01840071",
   "metadata": {},
   "source": [
    "Sort on rank and precinct"
   ]
  },
  {
   "cell_type": "code",
   "execution_count": null,
   "id": "c2af623b-01fb-43a4-b1b5-c45e0c6fb416",
   "metadata": {},
   "outputs": [],
   "source": [
    "rank_grouped.sort_values([\"precinct\",\"rank\"]).head(10)"
   ]
  },
  {
   "cell_type": "markdown",
   "id": "d0c31f34-4389-453d-a4f3-bd8fb1f67eb3",
   "metadata": {},
   "source": [
    "## Reshape the data from long to wide"
   ]
  },
  {
   "cell_type": "code",
   "execution_count": null,
   "id": "d85bdd16-5728-4f65-97f8-70ff89014d57",
   "metadata": {},
   "outputs": [],
   "source": [
    "wide = rank_grouped.pivot(index=[\"precinct\",\"total_votes\"], columns=\"rank\", values=[\"candidate_name\",\"candidate_pct\",\"candidate_votes\"])"
   ]
  },
  {
   "cell_type": "code",
   "execution_count": null,
   "id": "8d74ad6e-9a1e-4fa6-9ab3-58601575c1cd",
   "metadata": {},
   "outputs": [],
   "source": [
    "wide = wide.reset_index()"
   ]
  },
  {
   "cell_type": "code",
   "execution_count": null,
   "id": "a92b4aa0-0318-4803-a8e5-f887da74ccbb",
   "metadata": {},
   "outputs": [],
   "source": [
    "wide.columns = wide.columns.map('_'.join).str.strip('_')"
   ]
  },
  {
   "cell_type": "code",
   "execution_count": null,
   "id": "9af242b2-6248-4142-8f7e-4678b9683e2d",
   "metadata": {},
   "outputs": [],
   "source": [
    "wide.sample()"
   ]
  },
  {
   "cell_type": "code",
   "execution_count": null,
   "id": "a6422c96-eebb-4d1b-b1a6-14ea6201c636",
   "metadata": {},
   "outputs": [],
   "source": [
    "# Set winner to candidate 1\n",
    "wide[\"winner\"] = wide[\"candidate_name_1\"]\n",
    "# If candidate 1 and candidate 2 are tied, then set winner to tie\n",
    "wide.loc[wide[\"candidate_pct_1\"] == wide[\"candidate_pct_2\"], \"winner\"] = \"tie\""
   ]
  },
  {
   "cell_type": "code",
   "execution_count": null,
   "id": "001357c8-da0b-49d7-b024-84948281af40",
   "metadata": {},
   "outputs": [],
   "source": [
    "# Create the margin between candidate 1 and 2\n",
    "wide[\"spread\"] = wide[\"candidate_pct_1\"] - wide[\"candidate_pct_2\"]"
   ]
  },
  {
   "cell_type": "code",
   "execution_count": null,
   "id": "f34e78a0-30fc-4731-87f8-37b1d02cab4d",
   "metadata": {},
   "outputs": [],
   "source": [
    "spread_values = wide[\"spread\"].to_list()"
   ]
  },
  {
   "cell_type": "code",
   "execution_count": null,
   "id": "9862e308-56ed-4ef4-893c-8e43db2fd80b",
   "metadata": {},
   "outputs": [],
   "source": [
    "spread_values_clean = [x for x in spread_values if ~np.isnan(x)]"
   ]
  },
  {
   "cell_type": "code",
   "execution_count": null,
   "id": "26461d1f-6acf-4af7-820a-ff7bff9c251b",
   "metadata": {},
   "outputs": [],
   "source": [
    "wide[\"county\"] = 'Alameda County'"
   ]
  },
  {
   "cell_type": "code",
   "execution_count": null,
   "id": "f52afc51-8214-4f3e-a408-7d9473f9d758",
   "metadata": {},
   "outputs": [],
   "source": [
    "wide"
   ]
  },
  {
   "cell_type": "markdown",
   "id": "a1219c5f-4c9d-4117-a8bf-ea452227c6b5",
   "metadata": {},
   "source": [
    "## Save"
   ]
  },
  {
   "cell_type": "code",
   "execution_count": null,
   "id": "5b0f86e1-8036-4cde-afa7-5edaaed3aa46",
   "metadata": {},
   "outputs": [],
   "source": [
    "# export the csv, first making directories that may not exist yet locally\n",
    "os.makedirs('processed', exist_ok=True)"
   ]
  },
  {
   "cell_type": "code",
   "execution_count": null,
   "id": "ec7db528-066d-49ad-90bc-ff2e04b858a0",
   "metadata": {
    "tags": []
   },
   "outputs": [],
   "source": [
    "wide.to_csv('processed/alameda_cleaned_election.csv', index=False)"
   ]
  }
 ],
 "metadata": {
  "kernelspec": {
   "display_name": "Python 3 (ipykernel)",
   "language": "python",
   "name": "python3"
  },
  "language_info": {
   "codemirror_mode": {
    "name": "ipython",
    "version": 3
   },
   "file_extension": ".py",
   "mimetype": "text/x-python",
   "name": "python",
   "nbconvert_exporter": "python",
   "pygments_lexer": "ipython3",
   "version": "3.8.17"
  }
 },
 "nbformat": 4,
 "nbformat_minor": 5
}
