{
 "cells": [
  {
   "cell_type": "markdown",
   "id": "d05c467b",
   "metadata": {
    "editable": true,
    "slideshow": {
     "slide_type": "slide"
    },
    "tags": []
   },
   "source": [
    "# Cleaning Data Basics"
   ]
  },
  {
   "cell_type": "markdown",
   "id": "3002c503",
   "metadata": {
    "editable": true,
    "slideshow": {
     "slide_type": "slide"
    },
    "tags": []
   },
   "source": [
    "## Some common ways data can be messy"
   ]
  },
  {
   "cell_type": "markdown",
   "id": "e404f454",
   "metadata": {
    "editable": true,
    "slideshow": {
     "slide_type": "subslide"
    },
    "tags": []
   },
   "source": [
    "**Problem**: Leading/trailing whitespace (or other characters)\n",
    "\n",
    "**Examples**:\n",
    "    \n",
    "- `police precinct    `\n",
    "- `    police precinct`\n",
    "- `   police precinct   `\n",
    "\n",
    "**Solution**: `.strip(...)`"
   ]
  },
  {
   "cell_type": "code",
   "execution_count": 78,
   "id": "4440755c",
   "metadata": {
    "editable": true,
    "slideshow": {
     "slide_type": "subslide"
    },
    "tags": []
   },
   "outputs": [
    {
     "data": {
      "text/plain": [
       "'police precinct'"
      ]
     },
     "execution_count": 78,
     "metadata": {},
     "output_type": "execute_result"
    }
   ],
   "source": [
    "\"police precinct    \".strip()"
   ]
  },
  {
   "cell_type": "code",
   "execution_count": 79,
   "id": "433d6a8e",
   "metadata": {
    "editable": true,
    "slideshow": {
     "slide_type": "-"
    },
    "tags": []
   },
   "outputs": [
    {
     "data": {
      "text/plain": [
       "'police precinct'"
      ]
     },
     "execution_count": 79,
     "metadata": {},
     "output_type": "execute_result"
    }
   ],
   "source": [
    "\"    police precinct\".strip()"
   ]
  },
  {
   "cell_type": "code",
   "execution_count": 80,
   "id": "3b6cca07",
   "metadata": {
    "editable": true,
    "slideshow": {
     "slide_type": "-"
    },
    "tags": []
   },
   "outputs": [
    {
     "data": {
      "text/plain": [
       "'police precinct'"
      ]
     },
     "execution_count": 80,
     "metadata": {},
     "output_type": "execute_result"
    }
   ],
   "source": [
    "\"   police precinct   \".strip()"
   ]
  },
  {
   "cell_type": "markdown",
   "id": "027ded02",
   "metadata": {
    "editable": true,
    "slideshow": {
     "slide_type": "subslide"
    },
    "tags": []
   },
   "source": [
    "By default, `.strip(...)` removes leading/trailing whitespace, but you can also tell it to remove different/other characters:"
   ]
  },
  {
   "cell_type": "code",
   "execution_count": 81,
   "id": "b1e5a713",
   "metadata": {
    "editable": true,
    "slideshow": {
     "slide_type": "-"
    },
    "tags": []
   },
   "outputs": [
    {
     "data": {
      "text/plain": [
       "'police precinct'"
      ]
     },
     "execution_count": 81,
     "metadata": {},
     "output_type": "execute_result"
    }
   ],
   "source": [
    "\"///police precinct///\".strip(\"/\")"
   ]
  },
  {
   "cell_type": "markdown",
   "id": "3339e72b-f4bb-4564-bce8-f178bc6e6b08",
   "metadata": {
    "editable": true,
    "slideshow": {
     "slide_type": ""
    },
    "tags": []
   },
   "source": [
    "It will only, however, strip *consecutive* characters:"
   ]
  },
  {
   "cell_type": "code",
   "execution_count": 82,
   "id": "b29e2fac",
   "metadata": {
    "editable": true,
    "slideshow": {
     "slide_type": "-"
    },
    "tags": []
   },
   "outputs": [
    {
     "data": {
      "text/plain": [
       "' / /police precinct/ / '"
      ]
     },
     "execution_count": 82,
     "metadata": {},
     "output_type": "execute_result"
    }
   ],
   "source": [
    "\"/ / /police precinct/ / /\".strip(\"/\")"
   ]
  },
  {
   "cell_type": "code",
   "execution_count": 83,
   "id": "e038707b",
   "metadata": {
    "editable": true,
    "slideshow": {
     "slide_type": "-"
    },
    "tags": []
   },
   "outputs": [
    {
     "data": {
      "text/plain": [
       "'police precinct'"
      ]
     },
     "execution_count": 83,
     "metadata": {},
     "output_type": "execute_result"
    }
   ],
   "source": [
    "\"/ / /police precinct/ / /\".strip(\"/ \")"
   ]
  },
  {
   "cell_type": "markdown",
   "id": "1d1b7501",
   "metadata": {
    "editable": true,
    "slideshow": {
     "slide_type": "subslide"
    },
    "tags": []
   },
   "source": [
    "**Problem**: Extra/junk characters elsewhere\n",
    "\n",
    "**Examples**:\n",
    "    \n",
    "- `15,645`\n",
    "- `total_population_school_district`\n",
    "\n",
    "**Solution**: `.replace(...)`"
   ]
  },
  {
   "cell_type": "code",
   "execution_count": 84,
   "id": "cfd9ba1f",
   "metadata": {
    "editable": true,
    "slideshow": {
     "slide_type": "subslide"
    },
    "tags": [
     "raises-exception"
    ]
   },
   "outputs": [
    {
     "ename": "ValueError",
     "evalue": "invalid literal for int() with base 10: '15,645'",
     "output_type": "error",
     "traceback": [
      "\u001b[0;31m---------------------------------------------------------------------------\u001b[0m",
      "\u001b[0;31mValueError\u001b[0m                                Traceback (most recent call last)",
      "Cell \u001b[0;32mIn[84], line 1\u001b[0m\n\u001b[0;32m----> 1\u001b[0m \u001b[38;5;28;43mint\u001b[39;49m\u001b[43m(\u001b[49m\u001b[38;5;124;43m\"\u001b[39;49m\u001b[38;5;124;43m15,645\u001b[39;49m\u001b[38;5;124;43m\"\u001b[39;49m\u001b[43m)\u001b[49m\n",
      "\u001b[0;31mValueError\u001b[0m: invalid literal for int() with base 10: '15,645'"
     ]
    }
   ],
   "source": [
    "int(\"15,645\")"
   ]
  },
  {
   "cell_type": "code",
   "execution_count": 85,
   "id": "e2b27be5",
   "metadata": {
    "editable": true,
    "slideshow": {
     "slide_type": "fragment"
    },
    "tags": []
   },
   "outputs": [
    {
     "data": {
      "text/plain": [
       "'15645'"
      ]
     },
     "execution_count": 85,
     "metadata": {},
     "output_type": "execute_result"
    }
   ],
   "source": [
    "\"15,645\".replace(\",\", \"\")"
   ]
  },
  {
   "cell_type": "code",
   "execution_count": 86,
   "id": "543d005a",
   "metadata": {
    "editable": true,
    "slideshow": {
     "slide_type": "fragment"
    },
    "tags": []
   },
   "outputs": [
    {
     "data": {
      "text/plain": [
       "15645"
      ]
     },
     "execution_count": 86,
     "metadata": {},
     "output_type": "execute_result"
    }
   ],
   "source": [
    "int(\"15,645\".replace(\",\", \"\"))"
   ]
  },
  {
   "cell_type": "code",
   "execution_count": 87,
   "id": "e8b69b1d",
   "metadata": {
    "editable": true,
    "slideshow": {
     "slide_type": "subslide"
    },
    "tags": []
   },
   "outputs": [
    {
     "data": {
      "text/plain": [
       "'total population school district'"
      ]
     },
     "execution_count": 87,
     "metadata": {},
     "output_type": "execute_result"
    }
   ],
   "source": [
    "\"total_population_school_district\".replace(\"_\", \" \")"
   ]
  },
  {
   "cell_type": "markdown",
   "id": "e3ba698d",
   "metadata": {
    "editable": true,
    "slideshow": {
     "slide_type": "subslide"
    },
    "tags": []
   },
   "source": [
    "**Problem**: Inconsistent upper/lower-casing\n",
    "\n",
    "**Examples**:\n",
    "\n",
    "- `PALISADES FIRE`\n",
    "- `Palisades Fire`\n",
    "- `Palisades fIRE`\n",
    "\n",
    "**Solution**: `.upper()`/`.lower()`/`.title()`"
   ]
  },
  {
   "cell_type": "code",
   "execution_count": 88,
   "id": "8a045e36",
   "metadata": {
    "editable": true,
    "slideshow": {
     "slide_type": "subslide"
    },
    "tags": [
     "raises-exception"
    ]
   },
   "outputs": [
    {
     "data": {
      "text/plain": [
       "'PALISADES FIRE'"
      ]
     },
     "execution_count": 88,
     "metadata": {},
     "output_type": "execute_result"
    }
   ],
   "source": [
    "\"PALISADES FIRE\".upper()"
   ]
  },
  {
   "cell_type": "code",
   "execution_count": 89,
   "id": "f9cb44bc",
   "metadata": {
    "editable": true,
    "slideshow": {
     "slide_type": "-"
    },
    "tags": [
     "raises-exception"
    ]
   },
   "outputs": [
    {
     "data": {
      "text/plain": [
       "'palisades fire'"
      ]
     },
     "execution_count": 89,
     "metadata": {},
     "output_type": "execute_result"
    }
   ],
   "source": [
    "\"Palisades Fire\".lower()"
   ]
  },
  {
   "cell_type": "code",
   "execution_count": 90,
   "id": "a885dc30",
   "metadata": {
    "editable": true,
    "slideshow": {
     "slide_type": "-"
    },
    "tags": [
     "raises-exception"
    ]
   },
   "outputs": [
    {
     "data": {
      "text/plain": [
       "'Palisades Fire'"
      ]
     },
     "execution_count": 90,
     "metadata": {},
     "output_type": "execute_result"
    }
   ],
   "source": [
    "\"Palisades fIRE\".title()"
   ]
  },
  {
   "cell_type": "markdown",
   "id": "470630c1",
   "metadata": {
    "editable": true,
    "slideshow": {
     "slide_type": "subslide"
    },
    "tags": []
   },
   "source": [
    "**Problem**: One string contains **multiple** chunks of information\n",
    "\n",
    "**Examples**:\n",
    "\n",
    "- `10 lbs`\n",
    "- `Soma, Jonathan`\n",
    "- `06/16/2025`\n",
    "\n",
    "**Solution**: `.split(...)`"
   ]
  },
  {
   "cell_type": "markdown",
   "id": "c4596fd0-7092-455b-839b-b5802fbe54ad",
   "metadata": {
    "editable": true,
    "slideshow": {
     "slide_type": "subslide"
    },
    "tags": [
     "raises-exception"
    ]
   },
   "source": [
    "This method returns a list:"
   ]
  },
  {
   "cell_type": "code",
   "execution_count": 91,
   "id": "892ae822-4397-41eb-bfb5-48865f1ebb6d",
   "metadata": {
    "editable": true,
    "slideshow": {
     "slide_type": ""
    },
    "tags": []
   },
   "outputs": [
    {
     "data": {
      "text/plain": [
       "['10', 'lbs']"
      ]
     },
     "execution_count": 91,
     "metadata": {},
     "output_type": "execute_result"
    }
   ],
   "source": [
    "\"10 lbs\".split(\" \")"
   ]
  },
  {
   "cell_type": "markdown",
   "id": "9c4c59c0-8a6a-4ae9-92dc-67e5acec0ffd",
   "metadata": {
    "editable": true,
    "slideshow": {
     "slide_type": ""
    },
    "tags": []
   },
   "source": [
    "You can work with it like any list, including by using square-bracket notation to get any item:"
   ]
  },
  {
   "cell_type": "code",
   "execution_count": 92,
   "id": "dc6777c0",
   "metadata": {
    "editable": true,
    "slideshow": {
     "slide_type": "-"
    },
    "tags": []
   },
   "outputs": [
    {
     "data": {
      "text/plain": [
       "'10'"
      ]
     },
     "execution_count": 92,
     "metadata": {},
     "output_type": "execute_result"
    }
   ],
   "source": [
    "\"10 lbs\".split(\" \")[0]"
   ]
  },
  {
   "cell_type": "markdown",
   "id": "a26c1f2a-2a20-4845-bd77-e915b09ad7ad",
   "metadata": {
    "editable": true,
    "slideshow": {
     "slide_type": "subslide"
    },
    "tags": []
   },
   "source": [
    "Likewise, you can \"unpack\" each element into its own variable:"
   ]
  },
  {
   "cell_type": "code",
   "execution_count": 93,
   "id": "5ac92db2",
   "metadata": {
    "editable": true,
    "slideshow": {
     "slide_type": ""
    },
    "tags": []
   },
   "outputs": [
    {
     "data": {
      "text/plain": [
       "['Soma', 'Jonathan']"
      ]
     },
     "execution_count": 93,
     "metadata": {},
     "output_type": "execute_result"
    }
   ],
   "source": [
    "\"Soma, Jonathan\".split(\", \")"
   ]
  },
  {
   "cell_type": "code",
   "execution_count": 94,
   "id": "ec05c0c7",
   "metadata": {
    "editable": true,
    "slideshow": {
     "slide_type": "-"
    },
    "tags": []
   },
   "outputs": [
    {
     "name": "stdout",
     "output_type": "stream",
     "text": [
      "Jonathan Soma\n"
     ]
    }
   ],
   "source": [
    "last, first = \"Soma, Jonathan\".split(\", \")\n",
    "print(f\"{first} {last}\")"
   ]
  },
  {
   "cell_type": "code",
   "execution_count": 95,
   "id": "3296ed8e",
   "metadata": {
    "editable": true,
    "slideshow": {
     "slide_type": "-"
    },
    "tags": []
   },
   "outputs": [
    {
     "name": "stdout",
     "output_type": "stream",
     "text": [
      "2025-06-16\n"
     ]
    }
   ],
   "source": [
    "m, d, y = \"06/16/2025\".split(\"/\")\n",
    "print(\"-\".join([y, m, d]))"
   ]
  },
  {
   "cell_type": "markdown",
   "id": "1ce0b05e",
   "metadata": {
    "editable": true,
    "slideshow": {
     "slide_type": "slide"
    },
    "tags": []
   },
   "source": [
    "## Exercise\n",
    "\n",
    "Write code that calculates the total amount of money expressed in this list:"
   ]
  },
  {
   "cell_type": "code",
   "execution_count": 96,
   "id": "f7517d1c",
   "metadata": {
    "editable": true,
    "slideshow": {
     "slide_type": "-"
    },
    "tags": []
   },
   "outputs": [],
   "source": [
    "amounts = [\n",
    "    \"   5,1245.31   doLLaRs   \",\n",
    "    \"456 Dollars  \",\n",
    "    \"156.20 USD\",\n",
    "    \"$15\"\n",
    "]"
   ]
  },
  {
   "cell_type": "markdown",
   "id": "1087d565-6f79-494d-be50-0b98732a58d9",
   "metadata": {
    "editable": true,
    "slideshow": {
     "slide_type": "fragment"
    },
    "tags": []
   },
   "source": [
    "My solution:"
   ]
  },
  {
   "cell_type": "code",
   "execution_count": 97,
   "id": "8abe6f22",
   "metadata": {
    "editable": true,
    "slideshow": {
     "slide_type": "-"
    },
    "tags": []
   },
   "outputs": [
    {
     "name": "stdout",
     "output_type": "stream",
     "text": [
      "Original:     5,1245.31   doLLaRs   \n",
      "Converted: 51245.31\n",
      "---\n",
      "Original:  456 Dollars  \n",
      "Converted: 456.0\n",
      "---\n",
      "Original:  156.20 USD\n",
      "Converted: 156.2\n",
      "---\n",
      "Original:  $15\n",
      "Converted: 15.0\n",
      "---\n"
     ]
    }
   ],
   "source": [
    "def clean_amount(amt):\n",
    "    amt = amt.strip(\"$ \")\n",
    "    amt = amt.replace(\",\", \"\")\n",
    "    amt = amt.split(\" \")[0]\n",
    "    return float(amt)\n",
    "\n",
    "for amt in amounts:\n",
    "    print(\"Original: \", amt)\n",
    "    print(\"Converted:\", clean_amount(amt))\n",
    "    print(\"---\")"
   ]
  },
  {
   "cell_type": "code",
   "execution_count": 98,
   "id": "04b91ffb-9e16-4ae3-839e-25b45ee0e59f",
   "metadata": {
    "editable": true,
    "slideshow": {
     "slide_type": ""
    },
    "tags": []
   },
   "outputs": [
    {
     "data": {
      "text/plain": [
       "51872.509999999995"
      ]
     },
     "execution_count": 98,
     "metadata": {},
     "output_type": "execute_result"
    }
   ],
   "source": [
    "sum(clean_amount(amt) for amt in amounts)"
   ]
  },
  {
   "cell_type": "markdown",
   "id": "95100576-7d6d-4a29-a86f-7ecf442d89f6",
   "metadata": {},
   "source": [
    "Let's take that same list of amount descriptions, but this time make it a Pandas `Series`:"
   ]
  },
  {
   "cell_type": "code",
   "execution_count": 99,
   "id": "c3cc4945-b248-42f1-86e4-839078713ed1",
   "metadata": {},
   "outputs": [],
   "source": [
    "import pandas as pd"
   ]
  },
  {
   "cell_type": "code",
   "execution_count": 100,
   "id": "5ca98ffe-270c-42d0-9186-02396b324539",
   "metadata": {},
   "outputs": [
    {
     "data": {
      "text/plain": [
       "0       5,1245.31   doLLaRs   \n",
       "1                456 Dollars  \n",
       "2                   156.20 USD\n",
       "3                          $15\n",
       "dtype: object"
      ]
     },
     "execution_count": 100,
     "metadata": {},
     "output_type": "execute_result"
    }
   ],
   "source": [
    "amounts = pd.Series([\n",
    "    \"   5,1245.31   doLLaRs   \",\n",
    "    \"456 Dollars  \",\n",
    "    \"156.20 USD\",\n",
    "    \"$15\"\n",
    "])\n",
    "\n",
    "amounts"
   ]
  },
  {
   "cell_type": "markdown",
   "id": "5e98b6b7-3192-4831-a2cf-ccd744648460",
   "metadata": {},
   "source": [
    "In Pandas, you can use the same methods we explored in plain Python, but you access them through each Series' `.str` attribute:\n",
    "\n",
    "- **Plain**: `my_string.strip()`\n",
    "- **Pandas**: `my_series.str.strip()`\n",
    "\n",
    "- **Plain**: `my_string.replace(\"a\", \"b\")`\n",
    "- **Pandas**: `my_series.str.replace(\"a\", \"b\")`\n"
   ]
  },
  {
   "cell_type": "markdown",
   "id": "4c7e031a-2008-4550-aa4f-736c1c0df784",
   "metadata": {},
   "source": [
    "Let's try it out:"
   ]
  },
  {
   "cell_type": "code",
   "execution_count": 101,
   "id": "6af6f712-552b-41bc-aafe-5172459bed15",
   "metadata": {},
   "outputs": [
    {
     "data": {
      "text/plain": [
       "0       5,1245.31   doLLaRs   \n",
       "1                456 Dollars  \n",
       "2                   156.20 USD\n",
       "3                          $15\n",
       "dtype: object"
      ]
     },
     "execution_count": 101,
     "metadata": {},
     "output_type": "execute_result"
    }
   ],
   "source": [
    "amounts"
   ]
  },
  {
   "cell_type": "code",
   "execution_count": 102,
   "id": "4c610f72-9bab-4d10-8d38-3648679d1f57",
   "metadata": {},
   "outputs": [
    {
     "data": {
      "text/plain": [
       "0    5,1245.31   doLLaRs\n",
       "1            456 Dollars\n",
       "2             156.20 USD\n",
       "3                     15\n",
       "dtype: object"
      ]
     },
     "execution_count": 102,
     "metadata": {},
     "output_type": "execute_result"
    }
   ],
   "source": [
    "amounts.str.strip(\"$ \")"
   ]
  },
  {
   "cell_type": "code",
   "execution_count": 103,
   "id": "c2a84bf5-a33d-4dd1-8950-0f1a7f35ea4c",
   "metadata": {},
   "outputs": [
    {
     "data": {
      "text/plain": [
       "0       51245.31   doLLaRs   \n",
       "1               456 Dollars  \n",
       "2                  156.20 USD\n",
       "3                         $15\n",
       "dtype: object"
      ]
     },
     "execution_count": 103,
     "metadata": {},
     "output_type": "execute_result"
    }
   ],
   "source": [
    "amounts.str.replace(\",\", \"\")"
   ]
  },
  {
   "cell_type": "code",
   "execution_count": 104,
   "id": "a6eda020-c7c5-4e66-bac6-de56c2cd070b",
   "metadata": {},
   "outputs": [
    {
     "data": {
      "text/plain": [
       "0       5,1245.31   dollars   \n",
       "1                456 dollars  \n",
       "2                   156.20 usd\n",
       "3                          $15\n",
       "dtype: object"
      ]
     },
     "execution_count": 104,
     "metadata": {},
     "output_type": "execute_result"
    }
   ],
   "source": [
    "amounts.str.lower()"
   ]
  },
  {
   "cell_type": "code",
   "execution_count": 105,
   "id": "24997e2f-15ab-422a-b8b8-b8668f13497f",
   "metadata": {},
   "outputs": [
    {
     "data": {
      "text/plain": [
       "0    [, , , 5,1245.31, , , doLLaRs, , , ]\n",
       "1                      [456, Dollars, , ]\n",
       "2                           [156.20, USD]\n",
       "3                                   [$15]\n",
       "dtype: object"
      ]
     },
     "execution_count": 105,
     "metadata": {},
     "output_type": "execute_result"
    }
   ],
   "source": [
    "amounts.str.split(\" \")"
   ]
  },
  {
   "cell_type": "markdown",
   "id": "5f6afcf6-7c0d-4025-8f52-0da6c0e8242d",
   "metadata": {},
   "source": [
    "`.str.get(num)` is equivalent to equivalent to `my_list[num]` in plain Python, and can be helpful to combine with `.str.split(...)`:"
   ]
  },
  {
   "cell_type": "code",
   "execution_count": 106,
   "id": "ac397076-b21c-4e26-ba9d-3511b85af07f",
   "metadata": {},
   "outputs": [
    {
     "data": {
      "text/plain": [
       "0    [, , , 5,1245.31, , , doLLaRs, , , ]\n",
       "1                      [456, Dollars, , ]\n",
       "2                           [156.20, USD]\n",
       "3                                   [$15]\n",
       "dtype: object"
      ]
     },
     "execution_count": 106,
     "metadata": {},
     "output_type": "execute_result"
    }
   ],
   "source": [
    "amounts.str.split(\" \")"
   ]
  },
  {
   "cell_type": "code",
   "execution_count": 107,
   "id": "eabe00d8-d82d-4c69-be97-bdbf60002ad1",
   "metadata": {},
   "outputs": [
    {
     "data": {
      "text/plain": [
       "0          \n",
       "1       456\n",
       "2    156.20\n",
       "3       $15\n",
       "dtype: object"
      ]
     },
     "execution_count": 107,
     "metadata": {},
     "output_type": "execute_result"
    }
   ],
   "source": [
    "amounts.str.split(\" \").str.get(0)"
   ]
  },
  {
   "cell_type": "code",
   "execution_count": 108,
   "id": "a74287eb-2419-4b7a-9f9f-9545711019df",
   "metadata": {},
   "outputs": [
    {
     "data": {
      "text/plain": [
       "0       \n",
       "1       \n",
       "2    USD\n",
       "3    $15\n",
       "dtype: object"
      ]
     },
     "execution_count": 108,
     "metadata": {},
     "output_type": "execute_result"
    }
   ],
   "source": [
    "amounts.str.split(\" \").str.get(-1)"
   ]
  },
  {
   "cell_type": "markdown",
   "id": "c98b09ff-8687-4c26-91d7-4b07303a85b9",
   "metadata": {},
   "source": [
    "Now, let's put it all together to get the **quantities** from the amount descriptions (ignoring, for now, whether they represent the number of dollars or cents):"
   ]
  },
  {
   "cell_type": "code",
   "execution_count": 109,
   "id": "b4d2ae13-ff70-408d-96dd-419720e53b58",
   "metadata": {},
   "outputs": [
    {
     "data": {
      "text/plain": [
       "0    51245.31\n",
       "1      456.00\n",
       "2      156.20\n",
       "3       15.00\n",
       "dtype: float64"
      ]
     },
     "execution_count": 109,
     "metadata": {},
     "output_type": "execute_result"
    }
   ],
   "source": [
    "(\n",
    "    amounts\n",
    "    .str.strip(\"$ \")\n",
    "    .str.replace(\",\", \"\")\n",
    "    .str.split()\n",
    "    .str.get(0)\n",
    "    .astype(float)    \n",
    ")"
   ]
  },
  {
   "cell_type": "markdown",
   "id": "a6bb1c40-c5e2-4da5-acdd-21dc24e1135f",
   "metadata": {},
   "source": [
    "We're going to want to reuse this approach, so let's **put it in a function**:"
   ]
  },
  {
   "cell_type": "code",
   "execution_count": 110,
   "id": "d043a545-11cc-4e66-aaa4-fcdcd3112747",
   "metadata": {},
   "outputs": [],
   "source": [
    "def get_quantity(amounts):\n",
    "    return (\n",
    "        amounts\n",
    "        .str.strip(\"$ \")\n",
    "        .str.replace(\",\", \"\")\n",
    "        .str.split()\n",
    "        .str.get(0)\n",
    "        .astype(float)\n",
    "    )"
   ]
  },
  {
   "cell_type": "markdown",
   "id": "0157488e-e08f-4d0c-bf9c-19e6859e8a19",
   "metadata": {},
   "source": [
    "Now we can call that function on our pandas `Series`:"
   ]
  },
  {
   "cell_type": "code",
   "execution_count": 111,
   "id": "0f2a9b86-7e98-4e5b-b98b-ab8f266046bb",
   "metadata": {},
   "outputs": [
    {
     "data": {
      "text/plain": [
       "0    51245.31\n",
       "1      456.00\n",
       "2      156.20\n",
       "3       15.00\n",
       "dtype: float64"
      ]
     },
     "execution_count": 111,
     "metadata": {},
     "output_type": "execute_result"
    }
   ],
   "source": [
    "get_quantity(amounts)"
   ]
  },
  {
   "cell_type": "markdown",
   "id": "ec0f27ad-8d24-4497-ac73-de0e491c9d54",
   "metadata": {},
   "source": [
    "Or.."
   ]
  },
  {
   "cell_type": "code",
   "execution_count": 112,
   "id": "f8dce43b-e144-4320-90e4-ba99c3765cfa",
   "metadata": {},
   "outputs": [
    {
     "data": {
      "text/plain": [
       "0    51245.31\n",
       "1      456.00\n",
       "2      156.20\n",
       "3       15.00\n",
       "dtype: float64"
      ]
     },
     "execution_count": 112,
     "metadata": {},
     "output_type": "execute_result"
    }
   ],
   "source": [
    "amounts.pipe(get_quantity)"
   ]
  }
 ],
 "metadata": {
  "celltoolbar": "Slideshow",
  "kernelspec": {
   "display_name": "Python 3 (ipykernel)",
   "language": "python",
   "name": "python3"
  },
  "language_info": {
   "codemirror_mode": {
    "name": "ipython",
    "version": 3
   },
   "file_extension": ".py",
   "mimetype": "text/x-python",
   "name": "python",
   "nbconvert_exporter": "python",
   "pygments_lexer": "ipython3",
   "version": "3.8.17"
  }
 },
 "nbformat": 4,
 "nbformat_minor": 5
}
