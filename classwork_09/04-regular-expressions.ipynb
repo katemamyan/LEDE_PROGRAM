{
 "cells": [
  {
   "cell_type": "markdown",
   "id": "7edcd4d3",
   "metadata": {
    "editable": true,
    "slideshow": {
     "slide_type": "slide"
    },
    "tags": []
   },
   "source": [
    "# \"Regular Expressions\"\n",
    "\n",
    "*Also known as \"RegEx\"*"
   ]
  },
  {
   "cell_type": "markdown",
   "id": "2b2fe90b",
   "metadata": {
    "editable": true,
    "slideshow": {
     "slide_type": ""
    },
    "tags": []
   },
   "source": [
    "## `.strip(...)`, `.replace(...)`, etc. have their limits\n",
    "\n",
    "They deal with sets of explicit, pre-defined characters (e.g., the `\"$ \"` in `my_string.replace(\"$ \", \"\")`. But what if we don't know all characters we want to replace/strip/etc.?\n",
    "\n",
    "What if we want to clean based on ... *patterns*?"
   ]
  },
  {
   "cell_type": "markdown",
   "id": "4cad7ba7",
   "metadata": {
    "editable": true,
    "slideshow": {
     "slide_type": "slide"
    },
    "tags": []
   },
   "source": [
    "## Regular expressions(\"RegEx\")\n",
    "\n",
    "Regexes are:\n",
    "\n",
    "- Like \"Control-F\" * a 1,000\n",
    "- Usable across different programming language (Python, JavaScript, R, etc.) and environment (Excel and Google Sheets)"
   ]
  },
  {
   "cell_type": "markdown",
   "id": "6282ec7f",
   "metadata": {
    "editable": true,
    "slideshow": {
     "slide_type": "subslide"
    },
    "tags": []
   },
   "source": [
    "## Searching text for patterns\n",
    "\n",
    "Is X *in* my string?\n",
    "\n",
    "`re.search(pattern, text)`"
   ]
  },
  {
   "cell_type": "code",
   "execution_count": 1,
   "id": "322a5a75-882a-44cf-b0d0-b3538be45879",
   "metadata": {},
   "outputs": [],
   "source": [
    "import re"
   ]
  },
  {
   "cell_type": "code",
   "execution_count": 2,
   "id": "cb1ef10d-b581-47de-ac98-691a40d91d74",
   "metadata": {
    "editable": true,
    "slideshow": {
     "slide_type": ""
    },
    "tags": []
   },
   "outputs": [
    {
     "name": "stdout",
     "output_type": "stream",
     "text": [
      "<re.Match object; span=(10, 12), match='75'>\n"
     ]
    }
   ],
   "source": [
    "print(re.search(r\"\\d+\", \"There are 75 people in class\"))"
   ]
  },
  {
   "cell_type": "code",
   "execution_count": 3,
   "id": "fc62f70a",
   "metadata": {
    "editable": true,
    "slideshow": {
     "slide_type": ""
    },
    "tags": []
   },
   "outputs": [
    {
     "name": "stdout",
     "output_type": "stream",
     "text": [
      "None\n"
     ]
    }
   ],
   "source": [
    "print(re.search(r\"\\d+\", \"There are seventy-five people in class\"))"
   ]
  },
  {
   "cell_type": "markdown",
   "id": "4ef5db63",
   "metadata": {
    "editable": true,
    "slideshow": {
     "slide_type": "subslide"
    },
    "tags": []
   },
   "source": [
    "## Extracting text, using patterns\n",
    "\n",
    "Regexes use parentheses to define \"capture groups\":"
   ]
  },
  {
   "cell_type": "code",
   "execution_count": 4,
   "id": "2275b400",
   "metadata": {
    "editable": true,
    "slideshow": {
     "slide_type": ""
    },
    "tags": []
   },
   "outputs": [
    {
     "data": {
      "text/plain": [
       "'75'"
      ]
     },
     "execution_count": 4,
     "metadata": {},
     "output_type": "execute_result"
    }
   ],
   "source": [
    "match = re.search(r\"(\\d+)\", \"There are 75 people and 15 dogs in class\")\n",
    "match.group(1)"
   ]
  },
  {
   "cell_type": "code",
   "execution_count": 5,
   "id": "d5641539-e129-47d3-9aef-ddc1c8e6ba6b",
   "metadata": {
    "editable": true,
    "slideshow": {
     "slide_type": ""
    },
    "tags": []
   },
   "outputs": [
    {
     "data": {
      "text/plain": [
       "('75', 'people')"
      ]
     },
     "execution_count": 5,
     "metadata": {},
     "output_type": "execute_result"
    }
   ],
   "source": [
    "match = re.search(r\"(\\d+) ([^ ]+)\", \"There are 75 people and 15 dogs in class\")\n",
    "match.groups()"
   ]
  },
  {
   "cell_type": "code",
   "execution_count": 6,
   "id": "96ca3cfe",
   "metadata": {
    "editable": true,
    "slideshow": {
     "slide_type": ""
    },
    "tags": []
   },
   "outputs": [
    {
     "data": {
      "text/plain": [
       "[('75', 'people'), ('15', 'dogs')]"
      ]
     },
     "execution_count": 6,
     "metadata": {},
     "output_type": "execute_result"
    }
   ],
   "source": [
    "re.findall(r\"(\\d+) ([^ ]+)\", \"There are 75 people and 15 dogs in class\")"
   ]
  },
  {
   "cell_type": "markdown",
   "id": "8a4ecd75",
   "metadata": {
    "editable": true,
    "slideshow": {
     "slide_type": "subslide"
    },
    "tags": []
   },
   "source": [
    "## Changing text, using patterns\n",
    "\n",
    "Like \"Find/Replace,\" but much more powerful.\n",
    "\n",
    "`re.sub(pattern, replacement, text)`"
   ]
  },
  {
   "cell_type": "code",
   "execution_count": 7,
   "id": "165aacdb",
   "metadata": {
    "editable": true,
    "slideshow": {
     "slide_type": ""
    },
    "tags": []
   },
   "outputs": [
    {
     "data": {
      "text/plain": [
       "'I like giant zoo animals, my favorite animal is named Xin Bao'"
      ]
     },
     "execution_count": 7,
     "metadata": {},
     "output_type": "execute_result"
    }
   ],
   "source": [
    "phrase = \"I like giant pandas, my favorite animal is named Xin Bao\"\n",
    "re.sub(r\"pandas\", r\"zoo animals\", phrase)"
   ]
  },
  {
   "cell_type": "markdown",
   "id": "166e451e-4697-43b1-b06b-9a6bbbadf7b3",
   "metadata": {},
   "source": [
    "*<a href=\"https://zoo.sandiegozoo.org/giant-pandas\">Here's the best panda</a>*"
   ]
  },
  {
   "cell_type": "code",
   "execution_count": 8,
   "id": "e8c58518",
   "metadata": {
    "editable": true,
    "slideshow": {
     "slide_type": ""
    },
    "tags": []
   },
   "outputs": [
    {
     "data": {
      "text/plain": [
       "'Hellllllo! Beeeeeep!'"
      ]
     },
     "execution_count": 8,
     "metadata": {},
     "output_type": "execute_result"
    }
   ],
   "source": [
    "phrase = \"Hello! Beep!\"\n",
    "re.sub(r\"(.)\\1+\", r\"\\1\\1\\1\\1\\1\\1\", phrase)"
   ]
  },
  {
   "cell_type": "markdown",
   "id": "fc3d880c",
   "metadata": {
    "editable": true,
    "slideshow": {
     "slide_type": "slide"
    },
    "tags": []
   },
   "source": [
    "## How do I write them?"
   ]
  },
  {
   "cell_type": "markdown",
   "id": "d6fe3a6d",
   "metadata": {
    "editable": true,
    "slideshow": {
     "slide_type": ""
    },
    "tags": []
   },
   "source": [
    "## The basics\n",
    "\n",
    "- Anchors\n",
    "- Character sets\n",
    "- Repetition\n",
    "- Groups"
   ]
  },
  {
   "cell_type": "markdown",
   "id": "c1ff8ce7",
   "metadata": {
    "editable": true,
    "slideshow": {
     "slide_type": "subslide"
    },
    "tags": []
   },
   "source": [
    "### Anchors\n",
    "\n",
    "The most important of these:\n",
    "\n",
    "- `^`: The beginning of the line\n",
    "- `$`: The end of the line"
   ]
  },
  {
   "cell_type": "code",
   "execution_count": 9,
   "id": "025aeafb",
   "metadata": {
    "editable": true,
    "slideshow": {
     "slide_type": "subslide"
    },
    "tags": []
   },
   "outputs": [],
   "source": [
    "def test_search(pattern, string):\n",
    "    m = re.search(pattern, string)\n",
    "    print(f\"{string} → {'Yes' if m else 'No'}\")"
   ]
  },
  {
   "cell_type": "code",
   "execution_count": 10,
   "id": "637249a4",
   "metadata": {
    "editable": true,
    "slideshow": {
     "slide_type": "subslide"
    },
    "tags": []
   },
   "outputs": [
    {
     "name": "stdout",
     "output_type": "stream",
     "text": [
      "apple → Yes\n",
      "almond → Yes\n",
      "orange → No\n"
     ]
    }
   ],
   "source": [
    "pattern = r\"^a\"\n",
    "test_search(pattern, \"apple\")\n",
    "test_search(pattern, \"almond\")\n",
    "test_search(pattern, \"orange\")"
   ]
  },
  {
   "cell_type": "code",
   "execution_count": 11,
   "id": "ea8c5135",
   "metadata": {
    "editable": true,
    "slideshow": {
     "slide_type": "fragment"
    },
    "tags": []
   },
   "outputs": [
    {
     "name": "stdout",
     "output_type": "stream",
     "text": [
      "apple → Yes\n",
      "almond → No\n",
      "orange → Yes\n"
     ]
    }
   ],
   "source": [
    "pattern = r\"e$\"\n",
    "test_search(pattern, \"apple\")\n",
    "test_search(pattern, \"almond\")\n",
    "test_search(pattern, \"orange\")"
   ]
  },
  {
   "cell_type": "markdown",
   "id": "9161e822",
   "metadata": {
    "editable": true,
    "slideshow": {
     "slide_type": "subslide"
    },
    "tags": []
   },
   "source": [
    "### Character sets\n",
    "\n",
    "- `[abc123]`: A character that is *any* of a, b, c, 1, 2, or 3\n",
    "- `[^abc]`: A character that is *not* a, b, or c\n",
    "- `[a-z]`: Any of the lowercase characters\n",
    "- `[0-9]` ... or `\\d`: Any digit\n",
    "- `\\s`: Any whitespace (space, tab, newline)\n",
    "- `.`: Anything! (Except for a newline.)\n",
    "- `\\.`: The literal period character"
   ]
  },
  {
   "cell_type": "code",
   "execution_count": 12,
   "id": "c2da5a87",
   "metadata": {
    "editable": true,
    "slideshow": {
     "slide_type": "subslide"
    },
    "tags": []
   },
   "outputs": [
    {
     "name": "stdout",
     "output_type": "stream",
     "text": [
      "apple → Yes\n",
      "Apple → No\n",
      "IPHONE 16 → Yes\n"
     ]
    }
   ],
   "source": [
    "pattern = r\"[abcxyz123]\"\n",
    "test_search(pattern, \"apple\")\n",
    "test_search(pattern, \"Apple\")\n",
    "test_search(pattern, \"IPHONE 16\")"
   ]
  },
  {
   "cell_type": "code",
   "execution_count": 13,
   "id": "dc8e67ab",
   "metadata": {
    "editable": true,
    "slideshow": {
     "slide_type": "subslide"
    },
    "tags": []
   },
   "outputs": [
    {
     "name": "stdout",
     "output_type": "stream",
     "text": [
      "apple → Yes\n",
      "Apple → Yes\n",
      "IPHONE 16 → No\n"
     ]
    }
   ],
   "source": [
    "pattern = r\"[a-z]\"\n",
    "test_search(pattern, \"apple\")\n",
    "test_search(pattern, \"Apple\")\n",
    "test_search(pattern, \"IPHONE 16\")"
   ]
  },
  {
   "cell_type": "code",
   "execution_count": 14,
   "id": "4195a75d",
   "metadata": {
    "editable": true,
    "slideshow": {
     "slide_type": "subslide"
    },
    "tags": []
   },
   "outputs": [
    {
     "name": "stdout",
     "output_type": "stream",
     "text": [
      "apple → No\n",
      "Apple → No\n",
      "IPHONE 16 → Yes\n"
     ]
    }
   ],
   "source": [
    "pattern = r\"\\d\"\n",
    "test_search(pattern, \"apple\")\n",
    "test_search(pattern, \"Apple\")\n",
    "test_search(pattern, \"IPHONE 16\")"
   ]
  },
  {
   "cell_type": "code",
   "execution_count": 15,
   "id": "e4caed23",
   "metadata": {
    "editable": true,
    "slideshow": {
     "slide_type": "subslide"
    },
    "tags": []
   },
   "outputs": [
    {
     "name": "stdout",
     "output_type": "stream",
     "text": [
      "apple → No\n",
      "Apple → No\n",
      "IPHONE 16 → Yes\n"
     ]
    }
   ],
   "source": [
    "pattern = r\"\\s\"\n",
    "test_search(pattern, \"apple\")\n",
    "test_search(pattern, \"Apple\")\n",
    "test_search(pattern, \"IPHONE 16\")"
   ]
  },
  {
   "cell_type": "markdown",
   "id": "fba35075",
   "metadata": {
    "editable": true,
    "slideshow": {
     "slide_type": "subslide"
    },
    "tags": []
   },
   "source": [
    "### Repetition\n",
    "\n",
    "- `?`: Zero or one\n",
    "- `*`: Zero or more\n",
    "- `+`: One or more\n",
    "- `{5}`: Exactly five\n",
    "- `{,5}`: Up to five\n",
    "- `{5,}`: At least five\n",
    "- `{5,8}`: Between five and eight"
   ]
  },
  {
   "cell_type": "code",
   "execution_count": 16,
   "id": "a654d5a4",
   "metadata": {
    "editable": true,
    "slideshow": {
     "slide_type": "subslide"
    },
    "tags": []
   },
   "outputs": [
    {
     "name": "stdout",
     "output_type": "stream",
     "text": [
      "Bu → Yes\n",
      "Buz → Yes\n",
      "Buzz → Yes\n",
      "Buzzzzz → Yes\n",
      "Buzzzzzz → Yes\n"
     ]
    }
   ],
   "source": [
    "pattern = r\"Buz?\"\n",
    "test_search(pattern, \"Bu\")\n",
    "test_search(pattern, \"Buz\")\n",
    "test_search(pattern, \"Buzz\")\n",
    "test_search(pattern, \"Buzzzzz\")\n",
    "test_search(pattern, \"Buzzzzzz\")"
   ]
  },
  {
   "cell_type": "code",
   "execution_count": 17,
   "id": "0c664568",
   "metadata": {
    "editable": true,
    "slideshow": {
     "slide_type": "subslide"
    },
    "tags": []
   },
   "outputs": [
    {
     "name": "stdout",
     "output_type": "stream",
     "text": [
      "Bu → Yes\n",
      "Buz → Yes\n",
      "Buzz → No\n",
      "Buzzz → No\n",
      "Buzzzz → No\n"
     ]
    }
   ],
   "source": [
    "pattern = r\"Buz?$\"\n",
    "test_search(pattern, \"Bu\")\n",
    "test_search(pattern, \"Buz\")\n",
    "test_search(pattern, \"Buzz\")\n",
    "test_search(pattern, \"Buzzz\")\n",
    "test_search(pattern, \"Buzzzz\")"
   ]
  },
  {
   "cell_type": "code",
   "execution_count": 18,
   "id": "9ceb8176",
   "metadata": {
    "editable": true,
    "slideshow": {
     "slide_type": "subslide"
    },
    "tags": []
   },
   "outputs": [
    {
     "name": "stdout",
     "output_type": "stream",
     "text": [
      "Bu → Yes\n",
      "Buz → Yes\n",
      "Buzz → Yes\n",
      "Buzzz → Yes\n",
      "Buzzzz → Yes\n"
     ]
    }
   ],
   "source": [
    "pattern = r\"Buz*$\"\n",
    "test_search(pattern, \"Bu\")\n",
    "test_search(pattern, \"Buz\")\n",
    "test_search(pattern, \"Buzz\")\n",
    "test_search(pattern, \"Buzzz\")\n",
    "test_search(pattern, \"Buzzzz\")"
   ]
  },
  {
   "cell_type": "code",
   "execution_count": 19,
   "id": "5a6c46bd",
   "metadata": {
    "editable": true,
    "slideshow": {
     "slide_type": "subslide"
    },
    "tags": []
   },
   "outputs": [
    {
     "name": "stdout",
     "output_type": "stream",
     "text": [
      "Bu → No\n",
      "Buz → Yes\n",
      "Buzz → Yes\n",
      "Buzzz → Yes\n",
      "Buzzzz → Yes\n"
     ]
    }
   ],
   "source": [
    "pattern = r\"Buz+$\"\n",
    "test_search(pattern, \"Bu\")\n",
    "test_search(pattern, \"Buz\")\n",
    "test_search(pattern, \"Buzz\")\n",
    "test_search(pattern, \"Buzzz\")\n",
    "test_search(pattern, \"Buzzzz\")"
   ]
  },
  {
   "cell_type": "code",
   "execution_count": 20,
   "id": "83a2045a",
   "metadata": {
    "editable": true,
    "slideshow": {
     "slide_type": "subslide"
    },
    "tags": []
   },
   "outputs": [
    {
     "name": "stdout",
     "output_type": "stream",
     "text": [
      "Bu → No\n",
      "Buz → No\n",
      "Buzz → No\n",
      "Buzzz → Yes\n",
      "Buzzzz → No\n"
     ]
    }
   ],
   "source": [
    "pattern = r\"Buz{3}$\"\n",
    "test_search(pattern, \"Bu\")\n",
    "test_search(pattern, \"Buz\")\n",
    "test_search(pattern, \"Buzz\")\n",
    "test_search(pattern, \"Buzzz\")\n",
    "test_search(pattern, \"Buzzzz\")"
   ]
  },
  {
   "cell_type": "code",
   "execution_count": 21,
   "id": "49c382cc",
   "metadata": {
    "editable": true,
    "slideshow": {
     "slide_type": "subslide"
    },
    "tags": []
   },
   "outputs": [
    {
     "name": "stdout",
     "output_type": "stream",
     "text": [
      "Bu → No\n",
      "Buz → No\n",
      "Buzz → No\n",
      "Buzzz → Yes\n",
      "Buzzzz → Yes\n"
     ]
    }
   ],
   "source": [
    "pattern = r\"Buz{3,}$\"\n",
    "test_search(pattern, \"Bu\")\n",
    "test_search(pattern, \"Buz\")\n",
    "test_search(pattern, \"Buzz\")\n",
    "test_search(pattern, \"Buzzz\")\n",
    "test_search(pattern, \"Buzzzz\")"
   ]
  },
  {
   "cell_type": "code",
   "execution_count": 22,
   "id": "72a908d2",
   "metadata": {
    "editable": true,
    "slideshow": {
     "slide_type": "subslide"
    },
    "tags": []
   },
   "outputs": [
    {
     "name": "stdout",
     "output_type": "stream",
     "text": [
      "Bu → No\n",
      "Buz → No\n",
      "Buzz → Yes\n",
      "Buzzz → Yes\n",
      "Buzzzz → No\n"
     ]
    }
   ],
   "source": [
    "pattern = r\"Buz{2,3}$\"\n",
    "test_search(pattern, \"Bu\")\n",
    "test_search(pattern, \"Buz\")\n",
    "test_search(pattern, \"Buzz\")\n",
    "test_search(pattern, \"Buzzz\")\n",
    "test_search(pattern, \"Buzzzz\")"
   ]
  },
  {
   "cell_type": "markdown",
   "id": "49842823",
   "metadata": {
    "editable": true,
    "slideshow": {
     "slide_type": "subslide"
    },
    "tags": []
   },
   "source": [
    "### Groups\n",
    "\n",
    "- `(...)`: A group\n",
    "- `(abc|xyz)`: *Either* \"abc\" OR \"xyz\"\n",
    "- `\\1`, `\\2`: A reference to the first group, second group, etc."
   ]
  },
  {
   "cell_type": "code",
   "execution_count": 23,
   "id": "b505c3fc",
   "metadata": {
    "editable": true,
    "slideshow": {
     "slide_type": "subslide"
    },
    "tags": []
   },
   "outputs": [
    {
     "name": "stdout",
     "output_type": "stream",
     "text": [
      "Ba → No\n",
      "Banana → Yes\n",
      "Bananana → Yes\n",
      "Banananan → No\n"
     ]
    }
   ],
   "source": [
    "pattern = r\"Ba(na)+$\"\n",
    "test_search(pattern, \"Ba\")\n",
    "test_search(pattern, \"Banana\")\n",
    "test_search(pattern, \"Bananana\")\n",
    "test_search(pattern, \"Banananan\")"
   ]
  },
  {
   "cell_type": "code",
   "execution_count": 24,
   "id": "eae9dea2",
   "metadata": {
    "editable": true,
    "slideshow": {
     "slide_type": "subslide"
    },
    "tags": []
   },
   "outputs": [
    {
     "name": "stdout",
     "output_type": "stream",
     "text": [
      "Hello, World → Yes\n",
      "Hello, Lede → Yes\n",
      "Hello, Yellow → No\n"
     ]
    }
   ],
   "source": [
    "pattern = r\"Hello, (World|Lede)\"\n",
    "test_search(pattern, \"Hello, World\")\n",
    "test_search(pattern, \"Hello, Lede\")\n",
    "test_search(pattern, \"Hello, Yellow\")"
   ]
  },
  {
   "cell_type": "code",
   "execution_count": 25,
   "id": "ed4a1c3e",
   "metadata": {
    "editable": true,
    "slideshow": {
     "slide_type": "subslide"
    },
    "tags": []
   },
   "outputs": [
    {
     "name": "stdout",
     "output_type": "stream",
     "text": [
      "Dog vs Dog → Yes\n",
      "Cat vs Cat → Yes\n",
      "Dog vs Cat → No\n"
     ]
    }
   ],
   "source": [
    "pattern = r\"^([^\\s]+) vs \\1\"\n",
    "test_search(pattern, \"Dog vs Dog\")\n",
    "test_search(pattern, \"Cat vs Cat\")\n",
    "test_search(pattern, \"Dog vs Cat\")"
   ]
  },
  {
   "cell_type": "code",
   "execution_count": 26,
   "id": "1cde204a",
   "metadata": {
    "editable": true,
    "slideshow": {
     "slide_type": "subslide"
    },
    "tags": []
   },
   "outputs": [
    {
     "name": "stdout",
     "output_type": "stream",
     "text": [
      "Dog vs Dog → Yes\n",
      "Cat vs Cat → Yes\n",
      "Dog vs Cat → No\n"
     ]
    }
   ],
   "source": [
    "pattern = r\"^([^\\s]+) vs \\1\"\n",
    "test_search(pattern, \"Dog vs Dog\")\n",
    "test_search(pattern, \"Cat vs Cat\")\n",
    "test_search(pattern, \"Dog vs Cat\")"
   ]
  },
  {
   "cell_type": "code",
   "execution_count": 27,
   "id": "7131f187",
   "metadata": {
    "editable": true,
    "slideshow": {
     "slide_type": "subslide"
    },
    "tags": []
   },
   "outputs": [
    {
     "data": {
      "text/plain": [
       "'Brooklyn, NY'"
      ]
     },
     "execution_count": 27,
     "metadata": {},
     "output_type": "execute_result"
    }
   ],
   "source": [
    "text = \"State: NY, City: Brooklyn\"\n",
    "pattern = r\"State: ([A-Z]{2}), City: ([^,]+)\"\n",
    "replacement = r\"\\2, \\1\"\n",
    "re.sub(pattern, replacement, text)"
   ]
  },
  {
   "cell_type": "markdown",
   "id": "3f9c84b1",
   "metadata": {
    "editable": true,
    "slideshow": {
     "slide_type": "slide"
    },
    "tags": []
   },
   "source": [
    "## Regular expressions in Pandas\n",
    "\n",
    "- `.str.extract(pattern_with_group, expand=False)`\n",
    "- `.str.replace(pattern, replacement, regex=True)`\n",
    "- `.str.contains(pattern)`\n",
    "\n",
    "Let's try this with our new example list of amounts ..."
   ]
  },
  {
   "cell_type": "code",
   "execution_count": 28,
   "id": "c5f45494",
   "metadata": {
    "editable": true,
    "slideshow": {
     "slide_type": "subslide"
    },
    "tags": []
   },
   "outputs": [],
   "source": [
    "import pandas as pd"
   ]
  },
  {
   "cell_type": "code",
   "execution_count": 29,
   "id": "5f5f6d2b",
   "metadata": {
    "editable": true,
    "slideshow": {
     "slide_type": "-"
    },
    "tags": []
   },
   "outputs": [],
   "source": [
    "amounts = [\n",
    "    \"   5,1245.31   doLLaRs   \",\n",
    "    \"456 Dollars  \",\n",
    "    \"156.20 USD\",\n",
    "    \"$15\"\n",
    "]"
   ]
  },
  {
   "cell_type": "code",
   "execution_count": 30,
   "id": "d75c538f",
   "metadata": {
    "editable": true,
    "slideshow": {
     "slide_type": "-"
    },
    "tags": []
   },
   "outputs": [
    {
     "data": {
      "text/html": [
       "<div>\n",
       "<style scoped>\n",
       "    .dataframe tbody tr th:only-of-type {\n",
       "        vertical-align: middle;\n",
       "    }\n",
       "\n",
       "    .dataframe tbody tr th {\n",
       "        vertical-align: top;\n",
       "    }\n",
       "\n",
       "    .dataframe thead th {\n",
       "        text-align: right;\n",
       "    }\n",
       "</style>\n",
       "<table border=\"1\" class=\"dataframe\">\n",
       "  <thead>\n",
       "    <tr style=\"text-align: right;\">\n",
       "      <th></th>\n",
       "      <th>raw</th>\n",
       "    </tr>\n",
       "  </thead>\n",
       "  <tbody>\n",
       "    <tr>\n",
       "      <th>0</th>\n",
       "      <td>5,1245.31   doLLaRs</td>\n",
       "    </tr>\n",
       "    <tr>\n",
       "      <th>1</th>\n",
       "      <td>456 Dollars</td>\n",
       "    </tr>\n",
       "    <tr>\n",
       "      <th>2</th>\n",
       "      <td>156.20 USD</td>\n",
       "    </tr>\n",
       "    <tr>\n",
       "      <th>3</th>\n",
       "      <td>$15</td>\n",
       "    </tr>\n",
       "  </tbody>\n",
       "</table>\n",
       "</div>"
      ],
      "text/plain": [
       "                         raw\n",
       "0     5,1245.31   doLLaRs   \n",
       "1              456 Dollars  \n",
       "2                 156.20 USD\n",
       "3                        $15"
      ]
     },
     "execution_count": 30,
     "metadata": {},
     "output_type": "execute_result"
    }
   ],
   "source": [
    "amounts_df = pd.DataFrame({ \"raw\": amounts })\n",
    "amounts_df"
   ]
  },
  {
   "cell_type": "code",
   "execution_count": 31,
   "id": "4ae7e199",
   "metadata": {
    "editable": true,
    "slideshow": {
     "slide_type": "subslide"
    },
    "tags": []
   },
   "outputs": [
    {
     "data": {
      "text/html": [
       "<div>\n",
       "<style scoped>\n",
       "    .dataframe tbody tr th:only-of-type {\n",
       "        vertical-align: middle;\n",
       "    }\n",
       "\n",
       "    .dataframe tbody tr th {\n",
       "        vertical-align: top;\n",
       "    }\n",
       "\n",
       "    .dataframe thead th {\n",
       "        text-align: right;\n",
       "    }\n",
       "</style>\n",
       "<table border=\"1\" class=\"dataframe\">\n",
       "  <thead>\n",
       "    <tr style=\"text-align: right;\">\n",
       "      <th></th>\n",
       "      <th>raw</th>\n",
       "      <th>quantity</th>\n",
       "    </tr>\n",
       "  </thead>\n",
       "  <tbody>\n",
       "    <tr>\n",
       "      <th>0</th>\n",
       "      <td>5,1245.31   doLLaRs</td>\n",
       "      <td>5,1245.31</td>\n",
       "    </tr>\n",
       "    <tr>\n",
       "      <th>1</th>\n",
       "      <td>456 Dollars</td>\n",
       "      <td>456</td>\n",
       "    </tr>\n",
       "    <tr>\n",
       "      <th>2</th>\n",
       "      <td>156.20 USD</td>\n",
       "      <td>156.20</td>\n",
       "    </tr>\n",
       "    <tr>\n",
       "      <th>3</th>\n",
       "      <td>$15</td>\n",
       "      <td>15</td>\n",
       "    </tr>\n",
       "  </tbody>\n",
       "</table>\n",
       "</div>"
      ],
      "text/plain": [
       "                         raw   quantity\n",
       "0     5,1245.31   doLLaRs     5,1245.31\n",
       "1              456 Dollars          456\n",
       "2                 156.20 USD     156.20\n",
       "3                        $15         15"
      ]
     },
     "execution_count": 31,
     "metadata": {},
     "output_type": "execute_result"
    }
   ],
   "source": [
    "amounts_df[\"quantity\"] = (\n",
    "    amounts_df[\"raw\"]\n",
    "    .str.extract(r\"([\\d,\\.]+)\", expand=False)\n",
    ")\n",
    "\n",
    "amounts_df"
   ]
  },
  {
   "cell_type": "code",
   "execution_count": 32,
   "id": "20921f8e",
   "metadata": {
    "editable": true,
    "slideshow": {
     "slide_type": "subslide"
    },
    "tags": []
   },
   "outputs": [
    {
     "data": {
      "text/html": [
       "<div>\n",
       "<style scoped>\n",
       "    .dataframe tbody tr th:only-of-type {\n",
       "        vertical-align: middle;\n",
       "    }\n",
       "\n",
       "    .dataframe tbody tr th {\n",
       "        vertical-align: top;\n",
       "    }\n",
       "\n",
       "    .dataframe thead th {\n",
       "        text-align: right;\n",
       "    }\n",
       "</style>\n",
       "<table border=\"1\" class=\"dataframe\">\n",
       "  <thead>\n",
       "    <tr style=\"text-align: right;\">\n",
       "      <th></th>\n",
       "      <th>raw</th>\n",
       "      <th>quantity</th>\n",
       "    </tr>\n",
       "  </thead>\n",
       "  <tbody>\n",
       "    <tr>\n",
       "      <th>0</th>\n",
       "      <td>5,1245.31   doLLaRs</td>\n",
       "      <td>51245.31</td>\n",
       "    </tr>\n",
       "    <tr>\n",
       "      <th>1</th>\n",
       "      <td>456 Dollars</td>\n",
       "      <td>456.00</td>\n",
       "    </tr>\n",
       "    <tr>\n",
       "      <th>2</th>\n",
       "      <td>156.20 USD</td>\n",
       "      <td>156.20</td>\n",
       "    </tr>\n",
       "    <tr>\n",
       "      <th>3</th>\n",
       "      <td>$15</td>\n",
       "      <td>15.00</td>\n",
       "    </tr>\n",
       "  </tbody>\n",
       "</table>\n",
       "</div>"
      ],
      "text/plain": [
       "                         raw  quantity\n",
       "0     5,1245.31   doLLaRs     51245.31\n",
       "1              456 Dollars      456.00\n",
       "2                 156.20 USD    156.20\n",
       "3                        $15     15.00"
      ]
     },
     "execution_count": 32,
     "metadata": {},
     "output_type": "execute_result"
    }
   ],
   "source": [
    "amounts_df[\"quantity\"] = (\n",
    "    amounts_df[\"raw\"]\n",
    "    .str.extract(r\"([\\d,\\.]+)\", expand=False)\n",
    "    .str.replace(\",\", \"\")\n",
    "    .astype(float)    \n",
    ")\n",
    "\n",
    "amounts_df"
   ]
  },
  {
   "cell_type": "markdown",
   "id": "8a6a7296-4a7e-4251-bdb6-5180c9781841",
   "metadata": {
    "editable": true,
    "slideshow": {
     "slide_type": "subslide"
    },
    "tags": []
   },
   "source": [
    "Or, saving us the `.str.replace(...)` line:"
   ]
  },
  {
   "cell_type": "code",
   "execution_count": 33,
   "id": "c546b3b1",
   "metadata": {
    "editable": true,
    "slideshow": {
     "slide_type": ""
    },
    "tags": []
   },
   "outputs": [
    {
     "data": {
      "text/html": [
       "<div>\n",
       "<style scoped>\n",
       "    .dataframe tbody tr th:only-of-type {\n",
       "        vertical-align: middle;\n",
       "    }\n",
       "\n",
       "    .dataframe tbody tr th {\n",
       "        vertical-align: top;\n",
       "    }\n",
       "\n",
       "    .dataframe thead th {\n",
       "        text-align: right;\n",
       "    }\n",
       "</style>\n",
       "<table border=\"1\" class=\"dataframe\">\n",
       "  <thead>\n",
       "    <tr style=\"text-align: right;\">\n",
       "      <th></th>\n",
       "      <th>raw</th>\n",
       "      <th>quantity</th>\n",
       "    </tr>\n",
       "  </thead>\n",
       "  <tbody>\n",
       "    <tr>\n",
       "      <th>0</th>\n",
       "      <td>5,1245.31   doLLaRs</td>\n",
       "      <td>51245.31</td>\n",
       "    </tr>\n",
       "    <tr>\n",
       "      <th>1</th>\n",
       "      <td>456 Dollars</td>\n",
       "      <td>456.00</td>\n",
       "    </tr>\n",
       "    <tr>\n",
       "      <th>2</th>\n",
       "      <td>156.20 USD</td>\n",
       "      <td>156.20</td>\n",
       "    </tr>\n",
       "    <tr>\n",
       "      <th>3</th>\n",
       "      <td>$15</td>\n",
       "      <td>15.00</td>\n",
       "    </tr>\n",
       "  </tbody>\n",
       "</table>\n",
       "</div>"
      ],
      "text/plain": [
       "                         raw  quantity\n",
       "0     5,1245.31   doLLaRs     51245.31\n",
       "1              456 Dollars      456.00\n",
       "2                 156.20 USD    156.20\n",
       "3                        $15     15.00"
      ]
     },
     "execution_count": 33,
     "metadata": {},
     "output_type": "execute_result"
    }
   ],
   "source": [
    "amounts_df[\"quantity\"] = (\n",
    "    amounts_df[\"raw\"]\n",
    "    .str.replace(r\"[^\\.\\d]\", \"\", regex=True)\n",
    "    .astype(float)\n",
    ")\n",
    "\n",
    "amounts_df"
   ]
  }
 ],
 "metadata": {
  "celltoolbar": "Slideshow",
  "kernelspec": {
   "display_name": "Python 3 (ipykernel)",
   "language": "python",
   "name": "python3"
  },
  "language_info": {
   "codemirror_mode": {
    "name": "ipython",
    "version": 3
   },
   "file_extension": ".py",
   "mimetype": "text/x-python",
   "name": "python",
   "nbconvert_exporter": "python",
   "pygments_lexer": "ipython3",
   "version": "3.8.17"
  }
 },
 "nbformat": 4,
 "nbformat_minor": 5
}
