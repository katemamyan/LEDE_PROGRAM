{
 "cells": [
  {
   "cell_type": "markdown",
   "id": "c6997b11-ea8e-4c84-a89e-5501e3c7afcc",
   "metadata": {},
   "source": [
    "# Data cleaning + Data Structure"
   ]
  },
  {
   "cell_type": "markdown",
   "id": "e68cacef-8439-4ce6-b3ec-2541e4b48b61",
   "metadata": {},
   "source": [
    "## What is clean data? The data we get is rarely as clean as we'd like."
   ]
  },
  {
   "cell_type": "markdown",
   "id": "e641618d-ca5b-43d8-bd32-7fb3d52517a3",
   "metadata": {},
   "source": [
    "Personally, I think understanding good structure is more important than learning formulas for Sheets, functions in Pandas or R. \n",
    "\n",
    "A well-structured file is similar to a well-structured story. It has all the information you need in a neat format. Formulas are easy to look up, but understanding why and how you should structure a file properly is **really** important.\n",
    "\n",
    "Here's my <a href=\"https://source.opennews.org/articles/building-cleaner-smarter-spreadsheets/\">write-up</a> on this. We're going to go over the basics of data cleaning and then I'll share some messy data that needs cleaning.\n",
    "\n",
    "While creating a dataset, consider what you might do with the data and the issues that you might run into. Think about the functions one commonly uses: \n",
    "- sort\n",
    "- aggregate\n",
    "- transform \n",
    "- filter"
   ]
  },
  {
   "cell_type": "markdown",
   "id": "590bc7d3-e15e-4990-9e76-d0543957cc75",
   "metadata": {},
   "source": [
    "**What does a poorly structured file look like? Here’s a classic—an example of what I’d like to call “the government file structure.”**"
   ]
  },
  {
   "cell_type": "markdown",
   "id": "bf936c13-03e6-4470-b824-2d8bb532f407",
   "metadata": {},
   "source": [
    "<img src=\"img/032117-clean-spreadsheets-2.png\" width=700 height=700 />"
   ]
  },
  {
   "cell_type": "markdown",
   "id": "1a7f9882-e9ca-4dc2-a7e7-0281aec9d363",
   "metadata": {},
   "source": [
    "This example is in German, but is also a familiar sight to people who look at some US government files. One big issue here is that the header row is not one row, but rather several rows. In order to use this file, one would have to parse the big block headers in each row into one row. There’s no need to add a border to spreadsheets, since that doesn’t translate well to a CSV."
   ]
  },
  {
   "cell_type": "markdown",
   "id": "7786bb5d-459b-4936-abc9-61ae0e03fc03",
   "metadata": {},
   "source": [
    "*For later, if you feel like looking at a <a href=\"https://docs.google.com/spreadsheets/d/1OhP3CCVL8IMRUQenr8R_j5Nq1aqGgBzllwVX1AhU-aY/edit?gid=0#gid=0\">horrible spreadsheet</a>. I made this one for IRE.*"
   ]
  },
  {
   "cell_type": "markdown",
   "id": "1e2fcb70-7258-4a20-9b53-d11b718bc700",
   "metadata": {},
   "source": [
    "### **Whenever I start a data analysis, I do the following:**\n",
    "- Make a folder for the data (one **\"raw\"** and one **\"processed\"**). Make a copy of the original data. Use consistent file names.\n",
    "- Call the data custodian or person that maintains the dataset. Make sure you understand the caveats and what each row and column means. Is there a form that feeds into this dataset? Get that form. \n",
    "- A **readme** that lists out where you got the data from (email, snail mail, hand-entry, website) and the date/time you downloaded said data. Include the contact of the person you spoke with to get the data. I also include notes on when I last called. \n",
    "- If you're getting the data from a website, save the link in the Internet Archive. If you know the data could change a bunch, you could also set up a scraper or screenshot folder to keep track of the data over time.\n",
    "- A **data dictionary** that explains what the data is, column by column.\n",
    "- A **data diary or a notebook** that is well-commented. It should have all the queries and notes about the data set in one place. It’s important to keep track of your steps, so you can reproduce the work if you need to, later on."
   ]
  },
  {
   "cell_type": "markdown",
   "id": "6b1a17fa-3fa7-4f20-9fb3-5da3a5230213",
   "metadata": {},
   "source": [
    "The data dictionary can contain (but is not limited to):\n",
    "\n",
    "- **Field name** - these should be clear. If you use headers like revenue1 and revenue2, chances are you probably won’t remember what they are. Save yourself time and make them concise and make sure to write this up in the data dictionary.\n",
    "- **Meaning** - what does the field name mean\n",
    "- **Format** - the format of the file: text, integer, float, date format\n",
    "- **Source** - where the data comes from. This is especially helpful if you are combining multiple data sources."
   ]
  },
  {
   "cell_type": "markdown",
   "id": "6e40697b-c632-40f1-b0f3-ef0d5b2d1a51",
   "metadata": {},
   "source": [
    "<img src=\"img/032117-clean-spreadsheets-5.png\" width=700 height=700 />"
   ]
  },
  {
   "cell_type": "markdown",
   "id": "b7e38bbc-d57c-4572-8a83-981c99cd616b",
   "metadata": {},
   "source": [
    "### **Formatting dates**\n",
    "\n",
    "It’s really important to specify the format the date will be written in, especially if multiple people are working together to enter data or clean it. \n",
    "\n",
    "**When entering dates, I strongly recommend using the global “ISO 8601” standard, YYYY-MM-DD, such as 2025-02-24.**\n",
    "\n",
    "Dates can be (but are not limited to):\n",
    "\n",
    "\n",
    "- Month-day-year written out (January 24, 1992) or abbreviated (Jan. 24, 1992)\n",
    "- Month-day-year (01/24/1992)\n",
    "- Month-day-year, only this time it’s the last two digits of a year (01/24/92)\n",
    "- Day-month-year written out (24 January, 1992) or abbreviated (24 Jan. 1992)\n",
    "- Day-month-year (24–01–1992)\n",
    "- Day-month-year, only this time it’s the last two digits of a year (24–01–92)\n",
    "- Year-month-day (1992–01–24)\n",
    "- Year-month-day abbreviated (92–01–24)"
   ]
  },
  {
   "cell_type": "markdown",
   "id": "ea57d3fe-6e56-4549-8c63-c4c33bc3e999",
   "metadata": {},
   "source": [
    "### **Blanks? Do you know what they mean?**\n",
    "\n",
    "If it's blank, does it mean 0 or N/A? This is a question to ask the data custodian. What about dashes? \n",
    "\n",
    "My preference: Fill in all cells. Use some common code for missing data. Make it clear that the data are known to be missing rather than unintentionally left blank."
   ]
  },
  {
   "cell_type": "markdown",
   "id": "65e1e127-7613-430b-be50-742586206331",
   "metadata": {},
   "source": [
    "### **Put one thing in a cell** \n",
    "\n",
    "The cells in your spreadsheet should each contain one piece of data. Do not put more than one thing in a cell. Be careful about extra spaces within cells."
   ]
  },
  {
   "cell_type": "markdown",
   "id": "02b46de2-258f-4afd-95fa-9df243847dad",
   "metadata": {},
   "source": [
    "### **Header names**\n",
    "\n",
    "Have clear and concise names for headers and use dashes or underscores in between words to make it easier to parse later on (ex: first-name instead of first name). Whatever you decide on for variable names, make sure you are consistent."
   ]
  },
  {
   "cell_type": "markdown",
   "id": "e679b7ed-f746-4375-8ffc-841af34416ba",
   "metadata": {},
   "source": [
    "### **Abbreviations** \n",
    "\n",
    "This is especially important when dealing with states and cities. It’s best to create a column for the city and another column for the state, especially if you’re working with multiple states. Stick to the same format—if you’re going to spell out the state, make sure you do it for all of them. An example: New Jersey, can be entered as NJ, N.J., or New Jersey. Don’t use nicknames like NOLA and assume people will know what that is. Make it easier on yourself and enter the data the same way each time, so you can join on other files and not have to spend time later cleaning the file."
   ]
  },
  {
   "cell_type": "markdown",
   "id": "9a815cdc-b5a3-4d6e-8950-2a834d637dde",
   "metadata": {},
   "source": [
    "###  **Formats for numbers**\n",
    "\n",
    "Thousands-place separators vary by country, so remember that if you’re working with data from several countries to check these formats. If you are entering data, use the actual numeric values rather than writing out the number (ex: 70000 rather than 70 thousand)."
   ]
  },
  {
   "cell_type": "markdown",
   "id": "1a07e3b7-9c04-43dc-9880-7b375ff8d103",
   "metadata": {},
   "source": [
    "### **No random calculations in your raw data** \n",
    "Your data should contain just the data and nothing else: no calculations, no graphs. Add the graphs and calculations in the notebooks as you work on them."
   ]
  }
 ],
 "metadata": {
  "kernelspec": {
   "display_name": "Python 3 (ipykernel)",
   "language": "python",
   "name": "python3"
  },
  "language_info": {
   "codemirror_mode": {
    "name": "ipython",
    "version": 3
   },
   "file_extension": ".py",
   "mimetype": "text/x-python",
   "name": "python",
   "nbconvert_exporter": "python",
   "pygments_lexer": "ipython3",
   "version": "3.8.17"
  }
 },
 "nbformat": 4,
 "nbformat_minor": 5
}
